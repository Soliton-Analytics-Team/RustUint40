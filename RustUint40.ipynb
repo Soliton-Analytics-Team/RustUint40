{
  "nbformat": 4,
  "nbformat_minor": 0,
  "metadata": {
    "colab": {
      "name": "RustUint40.ipynb",
      "provenance": [],
      "collapsed_sections": []
    },
    "kernelspec": {
      "name": "python3",
      "display_name": "Python 3"
    },
    "language_info": {
      "name": "python"
    }
  },
  "cells": [
    {
      "cell_type": "markdown",
      "metadata": {
        "id": "gAqV3EuGoFwC"
      },
      "source": [
        "# Rustで整数を5バイトに押し込む簡単なお仕事"
      ]
    },
    {
      "cell_type": "markdown",
      "metadata": {
        "id": "_gHh10FaoWtA"
      },
      "source": [
        "## はじめに"
      ]
    },
    {
      "cell_type": "markdown",
      "metadata": {
        "id": "9HyiMsGxocK4"
      },
      "source": [
        "Rustで整数を40bitでストレージに読み書きする方法について調べました。[以前の記事](https://)でGo言語で同じことをやっています。"
      ]
    },
    {
      "cell_type": "markdown",
      "metadata": {
        "id": "Sv9I9Y8HpCAA"
      },
      "source": [
        "まずは、Rustをインストールします。"
      ]
    },
    {
      "cell_type": "code",
      "metadata": {
        "id": "oT3ikwCLfUWl"
      },
      "source": [
        "!wget https://static.rust-lang.org/rustup/rustup-init.sh\n",
        "!sh rustup-init.sh -y\n",
        "!cp /root/.cargo/bin/* /usr/local/bin"
      ],
      "execution_count": null,
      "outputs": []
    },
    {
      "cell_type": "markdown",
      "metadata": {
        "id": "n1nXuWvQpHa0"
      },
      "source": [
        "検証用のプロジェクトを作成して、カレントディレクトリを移動します。"
      ]
    },
    {
      "cell_type": "code",
      "metadata": {
        "colab": {
          "base_uri": "https://localhost:8080/"
        },
        "id": "jy0wHUnY79PN",
        "outputId": "deebb8f4-6b93-4de6-b56e-f5d4c2ae2742"
      },
      "source": [
        "!cargo new measure\n",
        "%cd measure"
      ],
      "execution_count": 3,
      "outputs": [
        {
          "output_type": "stream",
          "name": "stdout",
          "text": [
            "\u001b[0m\u001b[0m\u001b[1m\u001b[32m     Created\u001b[0m binary (application) `measure` package\n",
            "/content/measure\n"
          ]
        }
      ]
    },
    {
      "cell_type": "markdown",
      "source": [
        "環境設定ファイルを生成します。"
      ],
      "metadata": {
        "id": "oyl9Tz_vqnos"
      }
    },
    {
      "cell_type": "code",
      "metadata": {
        "colab": {
          "base_uri": "https://localhost:8080/"
        },
        "id": "pk5YbV2Wa83N",
        "outputId": "d0bc95ac-5c21-4996-8223-999928304ebe"
      },
      "source": [
        "%%writefile Cargo.toml\n",
        "\n",
        "[package]\n",
        "name = \"measure\"\n",
        "version = \"0.1.0\"\n",
        "authors = []\n",
        "edition = \"2018\"\n",
        "\n",
        "[dependencies]\n",
        "rand = \"0.8.4\""
      ],
      "execution_count": 4,
      "outputs": [
        {
          "output_type": "stream",
          "name": "stdout",
          "text": [
            "Overwriting Cargo.toml\n"
          ]
        }
      ]
    },
    {
      "cell_type": "markdown",
      "metadata": {
        "id": "al2WtjbgpQTR"
      },
      "source": [
        "## 64bit整数の8バイト配列化\n",
        "\n",
        "> `to_le_bytes()`がおすすめ"
      ]
    },
    {
      "cell_type": "markdown",
      "metadata": {
        "id": "Vc_vxFPkp263"
      },
      "source": [
        "まずは64bitの整数をバイト配列にする方法を調べます。(以下では整数のエンコーディングはリトルエンディアンにします。特にunsafeがらみではビックエンディアンのCPUでは間違った動作になりますのでご注意ください。)\n",
        "\n",
        "愚直だとこうでしょうか。\n",
        "```\n",
        "for j in 0..8 {\n",
        "    buf[j] = (v >> (8 * j)) as u8;\n",
        "}\n",
        "```"
      ]
    },
    {
      "cell_type": "code",
      "metadata": {
        "colab": {
          "base_uri": "https://localhost:8080/"
        },
        "id": "UIRKZZx27hmU",
        "outputId": "f8f7302a-22d2-4cc6-c44d-83208c70a4b2"
      },
      "source": [
        "%%writefile src/main.rs\n",
        "use std::time::Instant;\n",
        "use rand;\n",
        "use rand::prelude::*;\n",
        "\n",
        "fn main() {\n",
        "    const COUNT: usize = 10_000_000_000;\n",
        "    const SIZE: usize = 100_000;\n",
        "    let mut rng: rand::rngs::StdRng = rand::SeedableRng::seed_from_u64(0);\n",
        "\n",
        "    let mut vs: [u64; SIZE] = [0; SIZE];\n",
        "    for i in 0..SIZE {\n",
        "        vs[i] = rng.gen_range(0..(1<<40));\n",
        "    }\n",
        "    let mut buf: [[u8; 8]; SIZE] = [[0; 8]; SIZE];\n",
        "\n",
        "    // 計測開始\n",
        "    let start = Instant::now();\n",
        "    for i in 0..COUNT {\n",
        "        let idx = i % SIZE;\n",
        "        let v = vs[idx];\n",
        "        let b = &mut buf[idx];\n",
        "        for j in 0..8 {\n",
        "            b[j] = (v >> (8 * j)) as u8;\n",
        "        }\n",
        "    }\n",
        "    let end = start.elapsed();\n",
        "    // 計測終了\n",
        "\n",
        "    println!(\n",
        "        \"{}.{:03} sec\",\n",
        "        end.as_secs(),\n",
        "        end.subsec_nanos() / 1_000_000\n",
        "    );\n",
        "\n",
        "    // 時間測定外の処理\n",
        "    println!(\"{:?}\", buf[0]);\n",
        "    let mut total: usize = 0;\n",
        "    for i in 0..SIZE {\n",
        "        for j in 0..8 {\n",
        "            total += buf[i][j] as usize;\n",
        "        }\n",
        "    }\n",
        "    println!(\"{}\", total);\n",
        "}\n"
      ],
      "execution_count": 97,
      "outputs": [
        {
          "output_type": "stream",
          "name": "stdout",
          "text": [
            "Overwriting src/main.rs\n"
          ]
        }
      ]
    },
    {
      "cell_type": "code",
      "metadata": {
        "colab": {
          "base_uri": "https://localhost:8080/"
        },
        "id": "_r0EbJpi8LMU",
        "outputId": "eebc0952-23a3-4f56-fcaf-69f131422620"
      },
      "source": [
        "!cargo run --release"
      ],
      "execution_count": 98,
      "outputs": [
        {
          "output_type": "stream",
          "name": "stdout",
          "text": [
            "\u001b[0m\u001b[0m\u001b[1m\u001b[32m   Compiling\u001b[0m measure v0.1.0 (/content/measure)\n",
            "\u001b[0m\u001b[0m\u001b[1m\u001b[32m    Finished\u001b[0m release [optimized] target(s) in 0.53s\n",
            "\u001b[0m\u001b[0m\u001b[1m\u001b[32m     Running\u001b[0m `target/release/measure`\n",
            "11.795 sec\n",
            "[205, 178, 63, 42, 187, 0, 0, 0]\n",
            "63749253\n"
          ]
        }
      ]
    },
    {
      "cell_type": "markdown",
      "metadata": {
        "id": "PyKt18vAqoiO"
      },
      "source": [
        "速い。Go言語では同じ処理で2分以上かかっていました。オプティマイザが優秀そうです。"
      ]
    },
    {
      "cell_type": "markdown",
      "source": [
        "ここで、参考のため、時間測定外の処理をなくして計測してみます。"
      ],
      "metadata": {
        "id": "xLzN1BbsukwF"
      }
    },
    {
      "cell_type": "code",
      "metadata": {
        "colab": {
          "base_uri": "https://localhost:8080/"
        },
        "id": "7bxXj2zhrGkV",
        "outputId": "6b5c45be-42a6-4e4e-8f12-4bcb40126d55"
      },
      "source": [
        "%%writefile src/main.rs\n",
        "use std::time::Instant;\n",
        "use rand;\n",
        "use rand::prelude::*;\n",
        "\n",
        "fn main() {\n",
        "    const COUNT: usize = 10_000_000_000;\n",
        "    const SIZE: usize = 100_000;\n",
        "    let mut rng: rand::rngs::StdRng = rand::SeedableRng::seed_from_u64(0);\n",
        "    let mut vs: [u64; SIZE] = [0; SIZE];\n",
        "    for i in 0..SIZE {\n",
        "        vs[i] = rng.gen_range(0..(1<<40));\n",
        "    }\n",
        "    let mut buf: [[u8; 8]; SIZE] = [[0; 8]; SIZE];\n",
        "\n",
        "    // 計測開始\n",
        "    let start = Instant::now();\n",
        "    for i in 0..COUNT {\n",
        "        let idx = i % SIZE;\n",
        "        let v = vs[idx];\n",
        "        let b = &mut buf[idx];\n",
        "        for j in 0..8 {\n",
        "            b[j] = (v >> (8 * j)) as u8;\n",
        "        }\n",
        "    }\n",
        "    let end = start.elapsed();\n",
        "    // 計測終了\n",
        "\n",
        "    println!(\n",
        "        \"{}.{:03} sec\",\n",
        "        end.as_secs(),\n",
        "        end.subsec_nanos() / 1_000_000\n",
        "    );\n",
        "\n",
        "}\n"
      ],
      "execution_count": 120,
      "outputs": [
        {
          "output_type": "stream",
          "name": "stdout",
          "text": [
            "Overwriting src/main.rs\n"
          ]
        }
      ]
    },
    {
      "cell_type": "code",
      "metadata": {
        "colab": {
          "base_uri": "https://localhost:8080/"
        },
        "id": "aO1MkSywrGb7",
        "outputId": "e42fa912-dafe-41d9-ff70-183f3b176c11"
      },
      "source": [
        "!cargo run --release"
      ],
      "execution_count": 121,
      "outputs": [
        {
          "output_type": "stream",
          "name": "stdout",
          "text": [
            "\u001b[0m\u001b[0m\u001b[1m\u001b[32m   Compiling\u001b[0m measure v0.1.0 (/content/measure)\n",
            "\u001b[0m\u001b[0m\u001b[1m\u001b[32m    Finished\u001b[0m release [optimized] target(s) in 0.50s\n",
            "\u001b[0m\u001b[0m\u001b[1m\u001b[32m     Running\u001b[0m `target/release/measure`\n",
            "0.000 sec\n"
          ]
        }
      ]
    },
    {
      "cell_type": "markdown",
      "metadata": {
        "id": "y3AkR1h2sFD8"
      },
      "source": [
        "計算結果を出力しないと、最適化で処理が削除されてしまうようです。また、計算結果の全てに触らないと部分的に削除されることもあるようなので、念のため全てに触るようにしてあります。\n"
      ]
    },
    {
      "cell_type": "markdown",
      "metadata": {
        "id": "mXrbgskt0yPl"
      },
      "source": [
        "それでは内側のfor文を展開してみましょう。"
      ]
    },
    {
      "cell_type": "code",
      "metadata": {
        "colab": {
          "base_uri": "https://localhost:8080/"
        },
        "id": "Q-EckxVy8Q_x",
        "outputId": "adf29fd0-b19e-43b7-e6ef-829941d93f9f"
      },
      "source": [
        "%%writefile src/main.rs\n",
        "use std::time::Instant;\n",
        "use rand;\n",
        "use rand::prelude::*;\n",
        "\n",
        "fn main() {\n",
        "    const COUNT: usize = 10_000_000_000;\n",
        "    const SIZE: usize = 100_000;\n",
        "    let mut rng: rand::rngs::StdRng = rand::SeedableRng::seed_from_u64(0);\n",
        "    let mut vs: [u64; SIZE] = [0; SIZE];\n",
        "    for i in 0..SIZE {\n",
        "        vs[i] = rng.gen_range(0..(1<<40));\n",
        "    }\n",
        "    let mut buf: [[u8; 8]; SIZE] = [[0; 8]; SIZE];\n",
        "\n",
        "    // 計測開始\n",
        "    let start = Instant::now();\n",
        "    for i in 0..COUNT {\n",
        "        let idx = i % SIZE;\n",
        "        let v = vs[idx];\n",
        "        let b = &mut buf[idx];\n",
        "        b[0] = v as u8;\n",
        "        b[1] = (v >> 8) as u8;\n",
        "        b[2] = (v >> 16) as u8;\n",
        "        b[3] = (v >> 24) as u8;\n",
        "        b[4] = (v >> 32) as u8;\n",
        "        b[5] = (v >> 40) as u8;\n",
        "        b[6] = (v >> 48) as u8;\n",
        "        b[7] = (v >> 56) as u8;\n",
        "    }\n",
        "    let end = start.elapsed();\n",
        "    // 計測終了\n",
        "\n",
        "    println!(\n",
        "        \"{}.{:03} sec\",\n",
        "        end.as_secs(),\n",
        "        end.subsec_nanos() / 1_000_000\n",
        "    );\n",
        "\n",
        "    // 時間測定外の処理\n",
        "    println!(\"{:?}\", buf[0]);\n",
        "    let mut total: usize = 0;\n",
        "    for i in 0..SIZE {\n",
        "        for j in 0..8 {\n",
        "            total += buf[i][j] as usize;\n",
        "        }\n",
        "    }\n",
        "    println!(\"{}\", total);\n",
        "}\n"
      ],
      "execution_count": 75,
      "outputs": [
        {
          "output_type": "stream",
          "name": "stdout",
          "text": [
            "Overwriting src/main.rs\n"
          ]
        }
      ]
    },
    {
      "cell_type": "code",
      "metadata": {
        "colab": {
          "base_uri": "https://localhost:8080/"
        },
        "id": "q7mgMv9F9LfI",
        "outputId": "23127a25-4fc4-4216-f1eb-46aee1ae7a4a"
      },
      "source": [
        "!cargo run --release"
      ],
      "execution_count": 76,
      "outputs": [
        {
          "output_type": "stream",
          "name": "stdout",
          "text": [
            "\u001b[0m\u001b[0m\u001b[1m\u001b[32m   Compiling\u001b[0m measure v0.1.0 (/content/measure)\n",
            "\u001b[0m\u001b[0m\u001b[1m\u001b[32m    Finished\u001b[0m release [optimized] target(s) in 0.55s\n",
            "\u001b[0m\u001b[0m\u001b[1m\u001b[32m     Running\u001b[0m `target/release/measure`\n",
            "11.777 sec\n",
            "[205, 178, 63, 42, 187, 0, 0, 0]\n",
            "63749253\n"
          ]
        }
      ]
    },
    {
      "cell_type": "markdown",
      "metadata": {
        "id": "C_9_BcrV5S85"
      },
      "source": [
        "ほぼ同じです。すでに最適化によりfor文が展開済みなのかもしれません。\n"
      ]
    },
    {
      "cell_type": "markdown",
      "source": [
        "Rustでは整数に対してto_le_bytes()というそのものズバリの関数が用意されていました。それを使用してみます。"
      ],
      "metadata": {
        "id": "CLYiac7jsFjt"
      }
    },
    {
      "cell_type": "code",
      "metadata": {
        "colab": {
          "base_uri": "https://localhost:8080/"
        },
        "id": "7q_cS4UG_6kc",
        "outputId": "afda1270-bdc5-4559-c0d5-adea2807ac4a"
      },
      "source": [
        "%%writefile src/main.rs\n",
        "use std::time::Instant;\n",
        "use rand;\n",
        "use rand::prelude::*;\n",
        "\n",
        "fn main() {\n",
        "    const COUNT: usize = 10_000_000_000;\n",
        "    const SIZE: usize = 100_000;\n",
        "    let mut rng: rand::rngs::StdRng = rand::SeedableRng::seed_from_u64(0);\n",
        "    let mut vs: [u64; SIZE] = [0; SIZE];\n",
        "    for i in 0..SIZE {\n",
        "        vs[i] = rng.gen_range(0..(1<<40));\n",
        "    }\n",
        "    let mut buf: [[u8; 8]; SIZE] = [[0; 8]; SIZE];\n",
        "\n",
        "    // 計測開始\n",
        "    let start = Instant::now();\n",
        "    for i in 0..COUNT {\n",
        "        let idx = i % SIZE;\n",
        "        buf[idx] = vs[idx].to_le_bytes();\n",
        "    }\n",
        "    let end = start.elapsed();\n",
        "    // 計測終了\n",
        "\n",
        "    println!(\n",
        "        \"{}.{:03} sec\",\n",
        "        end.as_secs(),\n",
        "        end.subsec_nanos() / 1_000_000\n",
        "    );\n",
        "\n",
        "    // 時間測定外の処理\n",
        "    println!(\"{:?}\", buf[0]);\n",
        "    let mut total: usize = 0;\n",
        "    for i in 0..SIZE {\n",
        "        for j in 0..8 {\n",
        "            total += buf[i][j] as usize;\n",
        "        }\n",
        "    }\n",
        "    println!(\"{}\", total);\n",
        "}\n"
      ],
      "execution_count": 12,
      "outputs": [
        {
          "output_type": "stream",
          "name": "stdout",
          "text": [
            "Overwriting src/main.rs\n"
          ]
        }
      ]
    },
    {
      "cell_type": "code",
      "metadata": {
        "colab": {
          "base_uri": "https://localhost:8080/"
        },
        "id": "x_rg_tY5U8Xc",
        "outputId": "fc4f363b-e25a-4f67-af7e-c9df091e8435"
      },
      "source": [
        "!cargo run --release"
      ],
      "execution_count": 13,
      "outputs": [
        {
          "output_type": "stream",
          "name": "stdout",
          "text": [
            "\u001b[0m\u001b[0m\u001b[1m\u001b[32m   Compiling\u001b[0m measure v0.1.0 (/content/measure)\n",
            "\u001b[0m\u001b[0m\u001b[1m\u001b[32m    Finished\u001b[0m release [optimized] target(s) in 0.57s\n",
            "\u001b[0m\u001b[0m\u001b[1m\u001b[32m     Running\u001b[0m `target/release/measure`\n",
            "7.133 sec\n",
            "[205, 178, 63, 42, 187, 0, 0, 0]\n",
            "63749253\n"
          ]
        }
      ]
    },
    {
      "cell_type": "markdown",
      "metadata": {
        "id": "daww7MSN55B5"
      },
      "source": [
        "かなり速くなりました。"
      ]
    },
    {
      "cell_type": "markdown",
      "metadata": {
        "id": "HvmqvJir6bwo"
      },
      "source": [
        "次に、整数をバイト配列に変換する別の方法が[某書籍](https://www.amazon.co.jp/dp/B087BZQ48R)で紹介されていたので、試してみます。"
      ]
    },
    {
      "cell_type": "code",
      "metadata": {
        "colab": {
          "base_uri": "https://localhost:8080/"
        },
        "id": "ZMMiitSgV4rb",
        "outputId": "69cbac6f-2666-413a-8966-ab67c9c9e820"
      },
      "source": [
        "%%writefile src/main.rs\n",
        "use std::time::Instant;\n",
        "use rand;\n",
        "use rand::prelude::*;\n",
        "\n",
        "fn main() {\n",
        "    const COUNT: usize = 10_000_000_000;\n",
        "    const SIZE: usize = 100_000;\n",
        "    let mut rng: rand::rngs::StdRng = rand::SeedableRng::seed_from_u64(0);\n",
        "    let mut vs: [u64; SIZE] = [0; SIZE];\n",
        "    for i in 0..SIZE {\n",
        "        vs[i] = rng.gen_range(0..(1<<40));\n",
        "    }\n",
        "    let mut buf: [[u8; 8]; SIZE] = [[0; 8]; SIZE];\n",
        "\n",
        "    // 計測開始\n",
        "    let start = Instant::now();\n",
        "    for i in 0..COUNT {\n",
        "        let idx = i % SIZE;\n",
        "        unsafe {\n",
        "            buf[idx] = std::mem::transmute::<u64, [u8; 8]>(vs[idx]);\n",
        "        }\n",
        "    }\n",
        "    let end = start.elapsed();\n",
        "    // 計測終了\n",
        "\n",
        "    println!(\n",
        "        \"{}.{:03} sec\",\n",
        "        end.as_secs(),\n",
        "        end.subsec_nanos() / 1_000_000\n",
        "    );\n",
        "\n",
        "    // 時間測定外の処理\n",
        "    println!(\"{:?}\", buf[0]);\n",
        "    let mut total: usize = 0;\n",
        "    for i in 0..SIZE {\n",
        "        for j in 0..8 {\n",
        "            total += buf[i][j] as usize;\n",
        "        }\n",
        "    }\n",
        "    println!(\"{}\", total);\n",
        "}\n"
      ],
      "execution_count": 14,
      "outputs": [
        {
          "output_type": "stream",
          "name": "stdout",
          "text": [
            "Overwriting src/main.rs\n"
          ]
        }
      ]
    },
    {
      "cell_type": "code",
      "metadata": {
        "colab": {
          "base_uri": "https://localhost:8080/"
        },
        "id": "iPhVvcJ2cwVJ",
        "outputId": "494aebb2-2b89-403e-ca19-29ae9cb4366c"
      },
      "source": [
        "!cargo run --release"
      ],
      "execution_count": 15,
      "outputs": [
        {
          "output_type": "stream",
          "name": "stdout",
          "text": [
            "\u001b[0m\u001b[0m\u001b[1m\u001b[32m   Compiling\u001b[0m measure v0.1.0 (/content/measure)\n",
            "\u001b[0m\u001b[0m\u001b[1m\u001b[32m    Finished\u001b[0m release [optimized] target(s) in 0.53s\n",
            "\u001b[0m\u001b[0m\u001b[1m\u001b[32m     Running\u001b[0m `target/release/measure`\n",
            "7.170 sec\n",
            "[205, 178, 63, 42, 187, 0, 0, 0]\n",
            "63749253\n"
          ]
        }
      ]
    },
    {
      "cell_type": "markdown",
      "metadata": {
        "id": "yWwb-f696tOl"
      },
      "source": [
        "処理時間、ほぼ同じです。"
      ]
    },
    {
      "cell_type": "markdown",
      "metadata": {
        "id": "B7K7qLv361DZ"
      },
      "source": [
        "どうせunsafeを使うなら、最後に、ポインターを使う技を試してみましょう。当初、どう型を定義してよいかわからず、コンパイラーに随分怒られました。"
      ]
    },
    {
      "cell_type": "code",
      "metadata": {
        "colab": {
          "base_uri": "https://localhost:8080/"
        },
        "id": "WC91Cw8je2yC",
        "outputId": "d236b5ae-3e6c-4106-809b-b8c097690978"
      },
      "source": [
        "%%writefile src/main.rs\n",
        "use std::time::Instant;\n",
        "use rand;\n",
        "use rand::prelude::*;\n",
        "\n",
        "fn main() {\n",
        "    const COUNT: usize = 10_000_000_000;\n",
        "    const SIZE: usize = 100_000;\n",
        "    let mut rng: rand::rngs::StdRng = rand::SeedableRng::seed_from_u64(0);\n",
        "    let mut vs: [u64; SIZE] = [0; SIZE];\n",
        "    for i in 0..SIZE {\n",
        "        vs[i] = rng.gen_range(0..(1<<40));\n",
        "    }\n",
        "    let buf: [[u8; 8]; SIZE] = [[0; 8]; SIZE];\n",
        "\n",
        "    // 計測開始\n",
        "    let start = Instant::now();\n",
        "    for i in 0..COUNT {\n",
        "        let idx = i % SIZE;\n",
        "        unsafe {\n",
        "            let ptr: *mut u64 = buf[idx].as_ptr() as *mut u64;\n",
        "            *ptr = vs[idx];\n",
        "        }\n",
        "    }\n",
        "    let end = start.elapsed();\n",
        "    // 計測終了\n",
        "\n",
        "    println!(\n",
        "        \"{}.{:03} sec\",\n",
        "        end.as_secs(),\n",
        "        end.subsec_nanos() / 1_000_000\n",
        "    );\n",
        "\n",
        "    // 時間測定外の処理\n",
        "    println!(\"{:?}\", buf[0]);\n",
        "    let mut total: usize = 0;\n",
        "    for i in 0..SIZE {\n",
        "        for j in 0..8 {\n",
        "            total += buf[i][j] as usize;\n",
        "        }\n",
        "    }\n",
        "    println!(\"{}\", total);\n",
        "}\n"
      ],
      "execution_count": null,
      "outputs": [
        {
          "output_type": "stream",
          "name": "stdout",
          "text": [
            "Overwriting src/main.rs\n"
          ]
        }
      ]
    },
    {
      "cell_type": "code",
      "metadata": {
        "colab": {
          "base_uri": "https://localhost:8080/"
        },
        "id": "p3pgrBDAe4fu",
        "outputId": "ced6810b-382f-4585-ab77-7b8f962e0cc9"
      },
      "source": [
        "!cargo run --release"
      ],
      "execution_count": null,
      "outputs": [
        {
          "output_type": "stream",
          "name": "stdout",
          "text": [
            "\u001b[0m\u001b[0m\u001b[1m\u001b[32m   Compiling\u001b[0m measure v0.1.0 (/content/measure)\n",
            "\u001b[0m\u001b[0m\u001b[1m\u001b[32m    Finished\u001b[0m release [optimized] target(s) in 0.58s\n",
            "\u001b[0m\u001b[0m\u001b[1m\u001b[32m     Running\u001b[0m `target/release/measure`\n",
            "7.242 sec\n",
            "[205, 178, 63, 42, 187, 0, 0, 0]\n",
            "63749253\n"
          ]
        }
      ]
    },
    {
      "cell_type": "markdown",
      "metadata": {
        "id": "oNNIVrWPoD8P"
      },
      "source": [
        "誤差の範囲内で同じです。`to_le_bytes()`をおすすめします。"
      ]
    },
    {
      "cell_type": "markdown",
      "metadata": {
        "id": "TF307BUn9Lql"
      },
      "source": [
        "## 8バイト配列から64bit整数への変換\n",
        "\n",
        "> `from_le_bytes()`がおすすめ\n",
        "\n"
      ]
    },
    {
      "cell_type": "markdown",
      "source": [
        "まずは愚直な方法です。"
      ],
      "metadata": {
        "id": "WimdVe6YswOl"
      }
    },
    {
      "cell_type": "code",
      "metadata": {
        "colab": {
          "base_uri": "https://localhost:8080/"
        },
        "id": "RKp-knYuabZK",
        "outputId": "a48a3478-8425-4a47-e296-de37b80604a9"
      },
      "source": [
        "%%writefile src/main.rs\n",
        "use rand;\n",
        "use rand::prelude::*;\n",
        "use std::time::Instant;\n",
        "\n",
        "fn main() {\n",
        "    const COUNT: usize = 10_000_000_000;\n",
        "    const SIZE: usize = 100_000;\n",
        "    let mut rng: rand::rngs::StdRng = rand::SeedableRng::seed_from_u64(0);\n",
        "    let mut buf: Vec<[u8; 8]> = Vec::new();\n",
        "    for _ in 0..SIZE {\n",
        "        buf.push([rng.gen_range(0..256) as u8,\n",
        "                  rng.gen_range(0..256) as u8,\n",
        "                  rng.gen_range(0..256) as u8,\n",
        "                  rng.gen_range(0..256) as u8,\n",
        "                  rng.gen_range(0..256) as u8,\n",
        "                  rng.gen_range(0..256) as u8,\n",
        "                  rng.gen_range(0..256) as u8,\n",
        "                  rng.gen_range(0..256) as u8])\n",
        "    }\n",
        "\n",
        "    // 計測開始\n",
        "    let start = Instant::now();\n",
        "    let mut v: u64 = 0;\n",
        "    for i in 0..COUNT {\n",
        "        let b = buf[(i % SIZE) as usize];\n",
        "        for j in 0..8 {\n",
        "            v += (b[j] as u64) << (8 * j);\n",
        "        }\n",
        "    }\n",
        "    let end = start.elapsed();\n",
        "    // 計測終了\n",
        "\n",
        "    println!(\n",
        "        \"{}.{:03} sec\",\n",
        "        end.as_secs(),\n",
        "        end.subsec_nanos() / 1_000_000\n",
        "    );\n",
        "    println!(\"{}\", v);\n",
        "}"
      ],
      "execution_count": 77,
      "outputs": [
        {
          "output_type": "stream",
          "name": "stdout",
          "text": [
            "Overwriting src/main.rs\n"
          ]
        }
      ]
    },
    {
      "cell_type": "code",
      "metadata": {
        "colab": {
          "base_uri": "https://localhost:8080/"
        },
        "id": "JmrjGUDifCRC",
        "outputId": "abc8edd7-790d-4bb0-ef91-f5f0be779cd6"
      },
      "source": [
        "!cargo run --release"
      ],
      "execution_count": 78,
      "outputs": [
        {
          "output_type": "stream",
          "name": "stdout",
          "text": [
            "\u001b[0m\u001b[0m\u001b[1m\u001b[32m   Compiling\u001b[0m measure v0.1.0 (/content/measure)\n",
            "\u001b[0m\u001b[0m\u001b[1m\u001b[32m    Finished\u001b[0m release [optimized] target(s) in 0.60s\n",
            "\u001b[0m\u001b[0m\u001b[1m\u001b[32m     Running\u001b[0m `target/release/measure`\n",
            "24.457 sec\n",
            "8845746833903097824\n"
          ]
        }
      ]
    },
    {
      "cell_type": "markdown",
      "source": [
        "配列への変換に比べるとかなり遅いです。分解するよりも合成する方が計算が必要な分、遅くなるのでしょうか。"
      ],
      "metadata": {
        "id": "xydf3tbUtUOf"
      }
    },
    {
      "cell_type": "markdown",
      "source": [
        "内側のfor文を展開します。"
      ],
      "metadata": {
        "id": "_ObBAO2ptwl6"
      }
    },
    {
      "cell_type": "code",
      "metadata": {
        "colab": {
          "base_uri": "https://localhost:8080/"
        },
        "id": "GniGT1Z_Jbl0",
        "outputId": "43236e90-7a13-4216-bf1b-ac2ac47ce083"
      },
      "source": [
        "%%writefile src/main.rs\n",
        "use rand;\n",
        "use rand::prelude::*;\n",
        "use std::time::Instant;\n",
        "\n",
        "fn main() {\n",
        "    const COUNT: usize = 10_000_000_000;\n",
        "    const SIZE: usize = 100_000;\n",
        "    let mut rng: rand::rngs::StdRng = rand::SeedableRng::seed_from_u64(0);\n",
        "    let mut buf: Vec<[u8; 8]> = Vec::new();\n",
        "    for _ in 0..SIZE {\n",
        "        buf.push([rng.gen_range(0..256) as u8,\n",
        "                  rng.gen_range(0..256) as u8,\n",
        "                  rng.gen_range(0..256) as u8,\n",
        "                  rng.gen_range(0..256) as u8,\n",
        "                  rng.gen_range(0..256) as u8,\n",
        "                  rng.gen_range(0..256) as u8,\n",
        "                  rng.gen_range(0..256) as u8,\n",
        "                  rng.gen_range(0..256) as u8])\n",
        "    }\n",
        "\n",
        "    // 計測開始\n",
        "    let start = Instant::now();\n",
        "    let mut v: u64 = 0;\n",
        "    for i in 0..COUNT {\n",
        "        let b = buf[(i % SIZE) as usize];\n",
        "        v += b[0] as u64;\n",
        "        v += (b[1] as u64) << 8;\n",
        "        v += (b[2] as u64) << 16;\n",
        "        v += (b[3] as u64) << 24;\n",
        "        v += (b[4] as u64) << 32;\n",
        "        v += (b[5] as u64) << 40;\n",
        "        v += (b[6] as u64) << 48;\n",
        "        v += (b[7] as u64) << 56;\n",
        "    }\n",
        "    let end = start.elapsed();\n",
        "    // 計測終了\n",
        "\n",
        "    println!(\n",
        "        \"{}.{:03} sec\",\n",
        "        end.as_secs(),\n",
        "        end.subsec_nanos() / 1_000_000\n",
        "    );\n",
        "    println!(\"{}\", v);\n",
        "}"
      ],
      "execution_count": 79,
      "outputs": [
        {
          "output_type": "stream",
          "name": "stdout",
          "text": [
            "Overwriting src/main.rs\n"
          ]
        }
      ]
    },
    {
      "cell_type": "code",
      "metadata": {
        "colab": {
          "base_uri": "https://localhost:8080/"
        },
        "id": "L1Lkwu4KJdQV",
        "outputId": "0b6bb44a-f4f1-4c25-a103-14db98ecd0fc"
      },
      "source": [
        "!cargo run --release"
      ],
      "execution_count": 80,
      "outputs": [
        {
          "output_type": "stream",
          "name": "stdout",
          "text": [
            "\u001b[0m\u001b[0m\u001b[1m\u001b[32m   Compiling\u001b[0m measure v0.1.0 (/content/measure)\n",
            "\u001b[0m\u001b[0m\u001b[1m\u001b[32m    Finished\u001b[0m release [optimized] target(s) in 0.58s\n",
            "\u001b[0m\u001b[0m\u001b[1m\u001b[32m     Running\u001b[0m `target/release/measure`\n",
            "31.003 sec\n",
            "8845746833903097824\n"
          ]
        }
      ]
    },
    {
      "cell_type": "markdown",
      "metadata": {
        "id": "bHIJgbfjMBpk"
      },
      "source": [
        "~~25%ほど処理時間が短くなりました。内側の処理が複雑なので、最適化によるfor文の展開はなされていなかったようです。~~\n",
        "\n",
        "逆に展開した方が処理時間が長くなる結果になりました。展開するよりも効率の良い最適化がなされるようになったのかもしれません。"
      ]
    },
    {
      "cell_type": "markdown",
      "source": [
        "次に、関数を使いましょう。"
      ],
      "metadata": {
        "id": "FN8KreF9vXc7"
      }
    },
    {
      "cell_type": "code",
      "metadata": {
        "colab": {
          "base_uri": "https://localhost:8080/"
        },
        "id": "sSpvgJK2P24I",
        "outputId": "04a733b3-dc1e-4b4f-b7d6-84d8aa44f2dc"
      },
      "source": [
        "%%writefile src/main.rs\n",
        "use rand;\n",
        "use rand::prelude::*;\n",
        "use std::time::Instant;\n",
        "\n",
        "fn main() {\n",
        "    const COUNT: usize = 10_000_000_000;\n",
        "    const SIZE: usize = 100_000;\n",
        "    let mut rng: rand::rngs::StdRng = rand::SeedableRng::seed_from_u64(0);\n",
        "    let mut buf: Vec<[u8; 8]> = Vec::new();\n",
        "    for _ in 0..SIZE {\n",
        "        buf.push([rng.gen_range(0..256) as u8,\n",
        "                  rng.gen_range(0..256) as u8,\n",
        "                  rng.gen_range(0..256) as u8,\n",
        "                  rng.gen_range(0..256) as u8,\n",
        "                  rng.gen_range(0..256) as u8,\n",
        "                  rng.gen_range(0..256) as u8,\n",
        "                  rng.gen_range(0..256) as u8,\n",
        "                  rng.gen_range(0..256) as u8])\n",
        "    }\n",
        "\n",
        "    // 計測開始\n",
        "    let start = Instant::now();\n",
        "    let mut v: u64 = 0;\n",
        "    for i in 0..COUNT {\n",
        "        v += u64::from_le_bytes(buf[(i % SIZE) as usize]);\n",
        "    }\n",
        "    let end = start.elapsed();\n",
        "    // 計測終了\n",
        "\n",
        "    println!(\n",
        "        \"{}.{:03} sec\",\n",
        "        end.as_secs(),\n",
        "        end.subsec_nanos() / 1_000_000\n",
        "    );\n",
        "    println!(\"{}\", v);\n",
        "}"
      ],
      "execution_count": 83,
      "outputs": [
        {
          "output_type": "stream",
          "name": "stdout",
          "text": [
            "Overwriting src/main.rs\n"
          ]
        }
      ]
    },
    {
      "cell_type": "code",
      "metadata": {
        "colab": {
          "base_uri": "https://localhost:8080/"
        },
        "id": "0JEW1aqTP7I7",
        "outputId": "e6b1a78e-61e3-4e44-c8a5-477f01263d30"
      },
      "source": [
        "!cargo run --release"
      ],
      "execution_count": 84,
      "outputs": [
        {
          "output_type": "stream",
          "name": "stdout",
          "text": [
            "\u001b[0m\u001b[0m\u001b[1m\u001b[32m   Compiling\u001b[0m measure v0.1.0 (/content/measure)\n",
            "\u001b[0m\u001b[0m\u001b[1m\u001b[32m    Finished\u001b[0m release [optimized] target(s) in 0.65s\n",
            "\u001b[0m\u001b[0m\u001b[1m\u001b[32m     Running\u001b[0m `target/release/measure`\n",
            "19.501 sec\n",
            "8845746833903097824\n"
          ]
        }
      ]
    },
    {
      "cell_type": "markdown",
      "metadata": {
        "id": "b-eYLQ_kuH5T"
      },
      "source": [
        "速くなりました。流石に専用の関数は違いますね。"
      ]
    },
    {
      "cell_type": "markdown",
      "source": [
        "別の関数による方法。"
      ],
      "metadata": {
        "id": "atuqKCmMvtcL"
      }
    },
    {
      "cell_type": "code",
      "metadata": {
        "colab": {
          "base_uri": "https://localhost:8080/"
        },
        "id": "FDdfiRYkOjGi",
        "outputId": "5f81de7b-0054-4048-b1b5-83a2a8ef2a25"
      },
      "source": [
        "%%writefile src/main.rs\n",
        "use rand;\n",
        "use rand::prelude::*;\n",
        "use std::time::Instant;\n",
        "\n",
        "fn main() {\n",
        "    const COUNT: usize = 10_000_000_000;\n",
        "    const SIZE: usize = 100_000;\n",
        "    let mut rng: rand::rngs::StdRng = rand::SeedableRng::seed_from_u64(0);\n",
        "    let mut buf: Vec<[u8; 8]> = Vec::new();\n",
        "    for _ in 0..SIZE {\n",
        "        buf.push([rng.gen_range(0..256) as u8,\n",
        "                  rng.gen_range(0..256) as u8,\n",
        "                  rng.gen_range(0..256) as u8,\n",
        "                  rng.gen_range(0..256) as u8,\n",
        "                  rng.gen_range(0..256) as u8,\n",
        "                  rng.gen_range(0..256) as u8,\n",
        "                  rng.gen_range(0..256) as u8,\n",
        "                  rng.gen_range(0..256) as u8])\n",
        "    }\n",
        "\n",
        "    // 計測開始\n",
        "    let start = Instant::now();\n",
        "    let mut v: u64 = 0;\n",
        "    for i in 0..COUNT {\n",
        "        unsafe {\n",
        "            v += std::mem::transmute::<[u8; 8], u64>(buf[(i % SIZE) as usize]);\n",
        "        }\n",
        "    }\n",
        "    let end = start.elapsed();\n",
        "    // 計測終了\n",
        "\n",
        "    println!(\n",
        "        \"{}.{:03} sec\",\n",
        "        end.as_secs(),\n",
        "        end.subsec_nanos() / 1_000_000\n",
        "    );\n",
        "    println!(\"{}\", v);\n",
        "}"
      ],
      "execution_count": 85,
      "outputs": [
        {
          "output_type": "stream",
          "name": "stdout",
          "text": [
            "Overwriting src/main.rs\n"
          ]
        }
      ]
    },
    {
      "cell_type": "code",
      "metadata": {
        "colab": {
          "base_uri": "https://localhost:8080/"
        },
        "id": "6fZ5hr1uOmFQ",
        "outputId": "8565dd82-409a-4613-87b3-6c8950eb61bb"
      },
      "source": [
        "!cargo run --release"
      ],
      "execution_count": 86,
      "outputs": [
        {
          "output_type": "stream",
          "name": "stdout",
          "text": [
            "\u001b[0m\u001b[0m\u001b[1m\u001b[32m   Compiling\u001b[0m measure v0.1.0 (/content/measure)\n",
            "\u001b[0m\u001b[0m\u001b[1m\u001b[32m    Finished\u001b[0m release [optimized] target(s) in 0.58s\n",
            "\u001b[0m\u001b[0m\u001b[1m\u001b[32m     Running\u001b[0m `target/release/measure`\n",
            "19.346 sec\n",
            "8845746833903097824\n"
          ]
        }
      ]
    },
    {
      "cell_type": "markdown",
      "metadata": {
        "id": "76yvotv0un4Y"
      },
      "source": [
        "同じです。"
      ]
    },
    {
      "cell_type": "markdown",
      "source": [
        "次はunsafeを使った方法。"
      ],
      "metadata": {
        "id": "4IZBLR0Uv2Of"
      }
    },
    {
      "cell_type": "code",
      "metadata": {
        "colab": {
          "base_uri": "https://localhost:8080/"
        },
        "id": "CoNVu8i8R-pj",
        "outputId": "645094f1-8e1c-4188-9e0b-ed5e0103c089"
      },
      "source": [
        "%%writefile src/main.rs\n",
        "use rand;\n",
        "use rand::prelude::*;\n",
        "use std::time::Instant;\n",
        "\n",
        "fn main() {\n",
        "    const COUNT: usize = 10_000_000_000;\n",
        "    const SIZE: usize = 100_000;\n",
        "    let mut rng: rand::rngs::StdRng = rand::SeedableRng::seed_from_u64(0);\n",
        "    let mut buf: Vec<[u8; 8]> = Vec::new();\n",
        "    for _ in 0..SIZE {\n",
        "        buf.push([rng.gen_range(0..256) as u8,\n",
        "                  rng.gen_range(0..256) as u8,\n",
        "                  rng.gen_range(0..256) as u8,\n",
        "                  rng.gen_range(0..256) as u8,\n",
        "                  rng.gen_range(0..256) as u8,\n",
        "                  rng.gen_range(0..256) as u8,\n",
        "                  rng.gen_range(0..256) as u8,\n",
        "                  rng.gen_range(0..256) as u8])\n",
        "    }\n",
        "\n",
        "    // 計測開始\n",
        "    let start = Instant::now();\n",
        "    let mut v: u64 = 0;\n",
        "    for i in 0..COUNT {\n",
        "        unsafe {\n",
        "            v += *(buf[(i % SIZE) as usize].as_ptr() as *mut u64);\n",
        "        }\n",
        "    }\n",
        "    let end = start.elapsed();\n",
        "    // 計測終了\n",
        "\n",
        "    println!(\n",
        "        \"{}.{:03} sec\",\n",
        "        end.as_secs(),\n",
        "        end.subsec_nanos() / 1_000_000\n",
        "    );\n",
        "    println!(\"{}\", v);\n",
        "}"
      ],
      "execution_count": 87,
      "outputs": [
        {
          "output_type": "stream",
          "name": "stdout",
          "text": [
            "Overwriting src/main.rs\n"
          ]
        }
      ]
    },
    {
      "cell_type": "code",
      "metadata": {
        "colab": {
          "base_uri": "https://localhost:8080/"
        },
        "id": "owDIHiGCR-gx",
        "outputId": "455d55e9-caa6-4562-8148-4bb21100e2c8"
      },
      "source": [
        "!cargo run --release"
      ],
      "execution_count": 88,
      "outputs": [
        {
          "output_type": "stream",
          "name": "stdout",
          "text": [
            "\u001b[0m\u001b[0m\u001b[1m\u001b[32m   Compiling\u001b[0m measure v0.1.0 (/content/measure)\n",
            "\u001b[0m\u001b[0m\u001b[1m\u001b[32m    Finished\u001b[0m release [optimized] target(s) in 0.60s\n",
            "\u001b[0m\u001b[0m\u001b[1m\u001b[32m     Running\u001b[0m `target/release/measure`\n",
            "19.390 sec\n",
            "8845746833903097824\n"
          ]
        }
      ]
    },
    {
      "cell_type": "markdown",
      "metadata": {
        "id": "hsJYN4apvGvE"
      },
      "source": [
        "特に速くはなりませんでした。`from_le_bytes()`をお勧めします。"
      ]
    },
    {
      "cell_type": "markdown",
      "metadata": {
        "id": "N63pszMshMLu"
      },
      "source": [
        "## 40bit整数の5バイト配列化\n",
        "\n",
        "> `*(buf[idx..].as_ptr() as *mut u64) = v`が最速"
      ]
    },
    {
      "cell_type": "markdown",
      "source": [
        "それでは、本題の40bit整数を扱う方法を検討しましょう。\n",
        "まずは愚直な方法です。"
      ],
      "metadata": {
        "id": "mNiC3m9Cwsqk"
      }
    },
    {
      "cell_type": "code",
      "metadata": {
        "colab": {
          "base_uri": "https://localhost:8080/"
        },
        "id": "Lg-I4lNss8x4",
        "outputId": "faac42f8-6c29-4010-f02f-49e32e9963d1"
      },
      "source": [
        "%%writefile src/main.rs\n",
        "use std::time::Instant;\n",
        "use rand;\n",
        "use rand::prelude::*;\n",
        "\n",
        "fn main() {\n",
        "    const COUNT: usize = 10_000_000_000;\n",
        "    const SIZE: usize = 100_000;\n",
        "    let mut rng: rand::rngs::StdRng = rand::SeedableRng::seed_from_u64(0);\n",
        "\n",
        "    let mut vs: [u64; SIZE] = [0; SIZE];\n",
        "    for i in 0..SIZE {\n",
        "        vs[i] = rng.gen_range(0..(1<<40));\n",
        "    }\n",
        "    let mut buf: [[u8; 5]; SIZE] = [[0; 5]; SIZE];\n",
        "\n",
        "    // 計測開始\n",
        "    let start = Instant::now();\n",
        "    for i in 0..COUNT {\n",
        "        let idx = i %SIZE;\n",
        "        let v = vs[idx];\n",
        "        let b = &mut buf[idx];\n",
        "        for j in 0..5 {\n",
        "            b[j] = (v >> (8 * j)) as u8;\n",
        "        }\n",
        "    }\n",
        "    let end = start.elapsed();\n",
        "    // 計測終了\n",
        "\n",
        "    println!(\n",
        "        \"{}.{:03} sec\",\n",
        "        end.as_secs(),\n",
        "        end.subsec_nanos() / 1_000_000\n",
        "    );\n",
        "\n",
        "    // 時間測定外の処理\n",
        "    println!(\"{:?}\", buf[0]);\n",
        "    let mut total: usize = 0;\n",
        "    for i in 0..SIZE {\n",
        "        for j in 0..5 {\n",
        "            total += buf[i][j] as usize;\n",
        "        }\n",
        "    }\n",
        "    println!(\"{}\", total);\n",
        "}\n"
      ],
      "execution_count": 107,
      "outputs": [
        {
          "output_type": "stream",
          "name": "stdout",
          "text": [
            "Overwriting src/main.rs\n"
          ]
        }
      ]
    },
    {
      "cell_type": "code",
      "metadata": {
        "colab": {
          "base_uri": "https://localhost:8080/"
        },
        "id": "KN8H94DetIc8",
        "outputId": "bcacaacd-1637-46fb-dc7d-13e7d497805d"
      },
      "source": [
        "!cargo run --release"
      ],
      "execution_count": 108,
      "outputs": [
        {
          "output_type": "stream",
          "name": "stdout",
          "text": [
            "\u001b[0m\u001b[0m\u001b[1m\u001b[32m   Compiling\u001b[0m measure v0.1.0 (/content/measure)\n",
            "\u001b[0m\u001b[0m\u001b[1m\u001b[32m    Finished\u001b[0m release [optimized] target(s) in 0.54s\n",
            "\u001b[0m\u001b[0m\u001b[1m\u001b[32m     Running\u001b[0m `target/release/measure`\n",
            "22.381 sec\n",
            "[205, 178, 63, 42, 187]\n",
            "63749253\n"
          ]
        }
      ]
    },
    {
      "cell_type": "markdown",
      "source": [
        "驚くことに、内側のforループが8回から5回に減っているにもかかわらず、64bit整数の8バイト配列化よりも処理時間が長くなりました。どうやら8回限定の超絶最適化が存在するようです。"
      ],
      "metadata": {
        "id": "IIfFsm_OxIPi"
      }
    },
    {
      "cell_type": "markdown",
      "source": [
        "内側のforループを展開するとどうなるでしょうか。"
      ],
      "metadata": {
        "id": "nVlAckzSuNMl"
      }
    },
    {
      "cell_type": "code",
      "metadata": {
        "colab": {
          "base_uri": "https://localhost:8080/"
        },
        "id": "IEOCv-n1tyG_",
        "outputId": "269b397c-c308-4f94-d19e-40a00b587335"
      },
      "source": [
        "%%writefile src/main.rs\n",
        "use std::time::Instant;\n",
        "use rand;\n",
        "use rand::prelude::*;\n",
        "\n",
        "fn main() {\n",
        "    const COUNT: usize = 10_000_000_000;\n",
        "    const SIZE: usize = 100_000;\n",
        "    let mut rng: rand::rngs::StdRng = rand::SeedableRng::seed_from_u64(0);\n",
        "    let mut vs: [u64; SIZE] = [0; SIZE];\n",
        "    for i in 0..SIZE {\n",
        "        vs[i] = rng.gen_range(0..(1<<40));\n",
        "    }\n",
        "\n",
        "    let mut buf: [[u8; 5]; SIZE] = [[0; 5]; SIZE];\n",
        "\n",
        "    let start = Instant::now();\n",
        "    for i in 0..COUNT {\n",
        "        let idx = i % SIZE;\n",
        "        let v = vs[idx];\n",
        "        let b = &mut buf[idx];\n",
        "        b[0] = v as u8;\n",
        "        b[1] = (v >> 8) as u8;\n",
        "        b[2] = (v >> 16) as u8;\n",
        "        b[3] = (v >> 24) as u8;\n",
        "        b[4] = (v >> 32) as u8;\n",
        "    }\n",
        "    let end = start.elapsed();\n",
        "\n",
        "    println!(\n",
        "        \"{}.{:03} sec\",\n",
        "        end.as_secs(),\n",
        "        end.subsec_nanos() / 1_000_000\n",
        "    );\n",
        "\n",
        "    // 時間測定外の処理\n",
        "    println!(\"{:?}\", buf[0]);\n",
        "    let mut total: usize = 0;\n",
        "    for i in 0..SIZE {\n",
        "        for j in 0..5 {\n",
        "            total += buf[i][j] as usize;\n",
        "        }\n",
        "    }\n",
        "    println!(\"{}\", total);\n",
        "}\n"
      ],
      "execution_count": 109,
      "outputs": [
        {
          "output_type": "stream",
          "name": "stdout",
          "text": [
            "Overwriting src/main.rs\n"
          ]
        }
      ]
    },
    {
      "cell_type": "code",
      "metadata": {
        "colab": {
          "base_uri": "https://localhost:8080/"
        },
        "id": "zjSI3NZ4t0SB",
        "outputId": "fd84e15f-706f-4f58-e882-55ba74e7e7e0"
      },
      "source": [
        "!cargo run --release"
      ],
      "execution_count": 110,
      "outputs": [
        {
          "output_type": "stream",
          "name": "stdout",
          "text": [
            "\u001b[0m\u001b[0m\u001b[1m\u001b[32m   Compiling\u001b[0m measure v0.1.0 (/content/measure)\n",
            "\u001b[0m\u001b[0m\u001b[1m\u001b[32m    Finished\u001b[0m release [optimized] target(s) in 0.53s\n",
            "\u001b[0m\u001b[0m\u001b[1m\u001b[32m     Running\u001b[0m `target/release/measure`\n",
            "22.303 sec\n",
            "[205, 178, 63, 42, 187]\n",
            "63749253\n"
          ]
        }
      ]
    },
    {
      "cell_type": "markdown",
      "source": [
        "これは変わりませんでした。"
      ],
      "metadata": {
        "id": "YXTSLsXruftI"
      }
    },
    {
      "cell_type": "markdown",
      "source": [
        "次に関数利用です。"
      ],
      "metadata": {
        "id": "4NGRhgwu1mV2"
      }
    },
    {
      "cell_type": "code",
      "metadata": {
        "colab": {
          "base_uri": "https://localhost:8080/"
        },
        "id": "6_yiRCs5wpaZ",
        "outputId": "65f5c74f-eaa3-446a-9723-531b2b81203f"
      },
      "source": [
        "%%writefile src/main.rs\n",
        "use std::time::Instant;\n",
        "use rand;\n",
        "use rand::prelude::*;\n",
        "\n",
        "fn main() {\n",
        "    const COUNT: usize = 10_000_000_000;\n",
        "    const SIZE: usize = 100_000;\n",
        "    let mut rng: rand::rngs::StdRng = rand::SeedableRng::seed_from_u64(0);\n",
        "    let mut vs: [u64; SIZE] = [0; SIZE];\n",
        "    for i in 0..SIZE {\n",
        "        vs[i] = rng.gen_range(0..(1<<40));\n",
        "    }\n",
        "    let mut buf: [[u8;5]; SIZE] = [[0; 5]; SIZE];\n",
        "\n",
        "    let start = Instant::now();\n",
        "    for i in 0..COUNT {\n",
        "        let idx = i % SIZE;\n",
        "        let dst = &mut buf[idx];\n",
        "        let src = vs[idx].to_le_bytes();\n",
        "        for j in 0..5 {\n",
        "            dst[j] = src[j];\n",
        "        }\n",
        "    }\n",
        "    let end = start.elapsed();\n",
        "\n",
        "    println!(\n",
        "        \"{}.{:03} sec\",\n",
        "        end.as_secs(),\n",
        "        end.subsec_nanos() / 1_000_000\n",
        "    );\n",
        "\n",
        "    // 時間測定外の処理\n",
        "    println!(\"{:?}\", buf[0]);\n",
        "    let mut total: usize = 0;\n",
        "    for i in 0..SIZE {\n",
        "        for j in 0..5 {\n",
        "            total += buf[i][j] as usize;\n",
        "        }\n",
        "    }\n",
        "    println!(\"{}\", total);\n",
        "}\n"
      ],
      "execution_count": 122,
      "outputs": [
        {
          "output_type": "stream",
          "name": "stdout",
          "text": [
            "Overwriting src/main.rs\n"
          ]
        }
      ]
    },
    {
      "cell_type": "code",
      "metadata": {
        "colab": {
          "base_uri": "https://localhost:8080/"
        },
        "id": "ebLQVXpLwscc",
        "outputId": "3465de0d-8b67-4c42-f25d-f4c721d0c9d7"
      },
      "source": [
        "!cargo run --release"
      ],
      "execution_count": 123,
      "outputs": [
        {
          "output_type": "stream",
          "name": "stdout",
          "text": [
            "\u001b[0m\u001b[0m\u001b[1m\u001b[32m   Compiling\u001b[0m measure v0.1.0 (/content/measure)\n",
            "\u001b[0m\u001b[0m\u001b[1m\u001b[32m    Finished\u001b[0m release [optimized] target(s) in 0.53s\n",
            "\u001b[0m\u001b[0m\u001b[1m\u001b[32m     Running\u001b[0m `target/release/measure`\n",
            "11.357 sec\n",
            "[205, 178, 63, 42, 187]\n",
            "63749253\n"
          ]
        }
      ]
    },
    {
      "cell_type": "markdown",
      "source": [
        "かなり速くなりました。"
      ],
      "metadata": {
        "id": "8aBlJWss119g"
      }
    },
    {
      "cell_type": "markdown",
      "source": [
        "別の関数ではどうでしょうか。"
      ],
      "metadata": {
        "id": "YOqNmfXp16QO"
      }
    },
    {
      "cell_type": "code",
      "metadata": {
        "colab": {
          "base_uri": "https://localhost:8080/"
        },
        "id": "Xc9uX8vHzBtm",
        "outputId": "5ed4a811-fc16-4342-de58-9837364e79b7"
      },
      "source": [
        "%%writefile src/main.rs\n",
        "use std::time::Instant;\n",
        "use rand;\n",
        "use rand::prelude::*;\n",
        "\n",
        "fn main() {\n",
        "    const COUNT: usize = 10_000_000_000;\n",
        "    const SIZE: usize = 100_000;\n",
        "    let mut rng: rand::rngs::StdRng = rand::SeedableRng::seed_from_u64(0);\n",
        "    let mut vs: [u64; SIZE] = [0; SIZE];\n",
        "    for i in 0..SIZE {\n",
        "        vs[i] = rng.gen_range(0..(1<<40));\n",
        "    }\n",
        "    let mut buf: [[u8;5]; SIZE] = [[0; 5]; SIZE];\n",
        "\n",
        "    let start = Instant::now();\n",
        "    for i in 0..COUNT {\n",
        "        let idx = i % SIZE;\n",
        "        unsafe {\n",
        "            let dst = &mut buf[idx];\n",
        "            let src = std::mem::transmute::<u64, [u8; 8]>(vs[idx]);\n",
        "            for j in 0..5 {\n",
        "                dst[j] = src[j];\n",
        "            }\n",
        "        }\n",
        "    }\n",
        "    let end = start.elapsed();\n",
        "\n",
        "    println!(\n",
        "        \"{}.{:03} sec\",\n",
        "        end.as_secs(),\n",
        "        end.subsec_nanos() / 1_000_000\n",
        "    );\n",
        "\n",
        "    // 時間測定外の処理\n",
        "    println!(\"{:?}\", buf[0]);\n",
        "    let mut total: usize = 0;\n",
        "    for i in 0..SIZE {\n",
        "        for j in 0..5 {\n",
        "            total += buf[i][j] as usize;\n",
        "        }\n",
        "    }\n",
        "    println!(\"{}\", total);\n",
        "}\n"
      ],
      "execution_count": 124,
      "outputs": [
        {
          "output_type": "stream",
          "name": "stdout",
          "text": [
            "Overwriting src/main.rs\n"
          ]
        }
      ]
    },
    {
      "cell_type": "code",
      "metadata": {
        "colab": {
          "base_uri": "https://localhost:8080/"
        },
        "id": "5E0bFuc8zDgB",
        "outputId": "bfa2852e-85a8-42c8-ba9c-5df54679c5db"
      },
      "source": [
        "!cargo run --release"
      ],
      "execution_count": 125,
      "outputs": [
        {
          "output_type": "stream",
          "name": "stdout",
          "text": [
            "\u001b[0m\u001b[0m\u001b[1m\u001b[32m   Compiling\u001b[0m measure v0.1.0 (/content/measure)\n",
            "\u001b[0m\u001b[0m\u001b[1m\u001b[32m    Finished\u001b[0m release [optimized] target(s) in 0.54s\n",
            "\u001b[0m\u001b[0m\u001b[1m\u001b[32m     Running\u001b[0m `target/release/measure`\n",
            "11.211 sec\n",
            "[205, 178, 63, 42, 187]\n",
            "63749253\n"
          ]
        }
      ]
    },
    {
      "cell_type": "markdown",
      "source": [
        "同じでした。"
      ],
      "metadata": {
        "id": "wNYu0Qrp2BvJ"
      }
    },
    {
      "cell_type": "markdown",
      "source": [
        "次はポインター利用です。"
      ],
      "metadata": {
        "id": "DPAlHYfP3LB1"
      }
    },
    {
      "cell_type": "code",
      "metadata": {
        "colab": {
          "base_uri": "https://localhost:8080/"
        },
        "id": "xO9iE3-UXtPF",
        "outputId": "1dd4b76c-6c4d-4e28-c5e9-b223c28a20e3"
      },
      "source": [
        "%%writefile src/main.rs\n",
        "use std::time::Instant;\n",
        "use rand;\n",
        "use rand::prelude::*;\n",
        "\n",
        "fn main() {\n",
        "    const COUNT: usize = 10_000_000_000;\n",
        "    const SIZE: usize = 100_000;\n",
        "    let mut rng: rand::rngs::StdRng = rand::SeedableRng::seed_from_u64(0);\n",
        "    let mut vs: [u64; SIZE] = [0; SIZE];\n",
        "    for i in 0..SIZE {\n",
        "        vs[i] = rng.gen_range(0..(1<<40));\n",
        "    }\n",
        "    let mut buf: [[u8;5]; SIZE] = [[0; 5]; SIZE];\n",
        "\n",
        "    let start = Instant::now();\n",
        "    for i in 0..COUNT {\n",
        "        let idx = i % SIZE;\n",
        "        let v = vs[idx];\n",
        "        let b = &mut buf[idx];\n",
        "        unsafe {\n",
        "            *(b.as_ptr() as *mut u32) = v as u32;\n",
        "            b[4] = (v >> 32) as u8;\n",
        "        }\n",
        "    }\n",
        "    let end = start.elapsed();\n",
        "\n",
        "    println!(\n",
        "        \"{}.{:03} sec\",\n",
        "        end.as_secs(),\n",
        "        end.subsec_nanos() / 1_000_000\n",
        "    );\n",
        "\n",
        "    // 時間測定外の処理\n",
        "    println!(\"{:?}\", buf[0]);\n",
        "    let mut total: usize = 0;\n",
        "    for i in 0..SIZE {\n",
        "        for j in 0..5 {\n",
        "            total += buf[i][j] as usize;\n",
        "        }\n",
        "    }\n",
        "    println!(\"{}\", total);\n",
        "}\n"
      ],
      "execution_count": 126,
      "outputs": [
        {
          "output_type": "stream",
          "name": "stdout",
          "text": [
            "Overwriting src/main.rs\n"
          ]
        }
      ]
    },
    {
      "cell_type": "code",
      "metadata": {
        "colab": {
          "base_uri": "https://localhost:8080/"
        },
        "id": "XvehP_8VXsx8",
        "outputId": "cd61b0e6-69cf-4539-e77d-b31ae8fb92f9"
      },
      "source": [
        "!cargo run --release"
      ],
      "execution_count": 127,
      "outputs": [
        {
          "output_type": "stream",
          "name": "stdout",
          "text": [
            "\u001b[0m\u001b[0m\u001b[1m\u001b[32m   Compiling\u001b[0m measure v0.1.0 (/content/measure)\n",
            "\u001b[0m\u001b[0m\u001b[1m\u001b[32m    Finished\u001b[0m release [optimized] target(s) in 0.54s\n",
            "\u001b[0m\u001b[0m\u001b[1m\u001b[32m     Running\u001b[0m `target/release/measure`\n",
            "10.668 sec\n",
            "[205, 178, 63, 42, 187]\n",
            "63749253\n"
          ]
        }
      ]
    },
    {
      "cell_type": "markdown",
      "source": [
        "少し速くなりました。"
      ],
      "metadata": {
        "id": "vehGfQvb3QV9"
      }
    },
    {
      "cell_type": "markdown",
      "source": [
        "型変換に関数を使ってみます。"
      ],
      "metadata": {
        "id": "eVNuSiUZ3sOO"
      }
    },
    {
      "cell_type": "code",
      "metadata": {
        "colab": {
          "base_uri": "https://localhost:8080/"
        },
        "id": "ict6TYO1prQ3",
        "outputId": "77be9841-f4d9-4518-a7f8-5f23ef9f1039"
      },
      "source": [
        "%%writefile src/main.rs\n",
        "use std::time::Instant;\n",
        "use rand;\n",
        "use rand::prelude::*;\n",
        "\n",
        "fn main() {\n",
        "    const COUNT: usize = 10_000_000_000;\n",
        "    const SIZE: usize = 100_000;\n",
        "    let mut rng: rand::rngs::StdRng = rand::SeedableRng::seed_from_u64(0);\n",
        "    let mut vs: [u64; SIZE] = [0; SIZE];\n",
        "    for i in 0..SIZE {\n",
        "        vs[i] = rng.gen_range(0..(1<<40));\n",
        "    }\n",
        "    let mut buf: [[u8; 5]; SIZE] = [[0; 5]; SIZE];\n",
        "\n",
        "    let start = Instant::now();\n",
        "    for i in 0..COUNT {\n",
        "        let idx = i % SIZE;\n",
        "        let v = vs[idx];\n",
        "        let b = &mut buf[idx];\n",
        "        unsafe {\n",
        "            *(b.as_ptr() as *mut u32) = v as u32;\n",
        "            b[4] = std::mem::transmute::<u64, [u8; 8]>(v)[4];\n",
        "        }\n",
        "    }\n",
        "    let end = start.elapsed();\n",
        "\n",
        "    println!(\n",
        "        \"{}.{:03} sec\",\n",
        "        end.as_secs(),\n",
        "        end.subsec_nanos() / 1_000_000\n",
        "    );\n",
        "\n",
        "    // 時間測定外の処理\n",
        "    println!(\"{:?}\", buf[0]);\n",
        "    let mut total: usize = 0;\n",
        "    for i in 0..SIZE {\n",
        "        for j in 0..5 {\n",
        "            total += buf[i][j] as usize;\n",
        "        }\n",
        "    }\n",
        "    println!(\"{}\", total);\n",
        "}\n"
      ],
      "execution_count": 128,
      "outputs": [
        {
          "output_type": "stream",
          "name": "stdout",
          "text": [
            "Overwriting src/main.rs\n"
          ]
        }
      ]
    },
    {
      "cell_type": "code",
      "metadata": {
        "colab": {
          "base_uri": "https://localhost:8080/"
        },
        "id": "XvMclpoQprG_",
        "outputId": "765aca28-9869-40f2-cd3f-73d3b24413f1"
      },
      "source": [
        "!cargo run --release"
      ],
      "execution_count": 129,
      "outputs": [
        {
          "output_type": "stream",
          "name": "stdout",
          "text": [
            "\u001b[0m\u001b[0m\u001b[1m\u001b[32m   Compiling\u001b[0m measure v0.1.0 (/content/measure)\n",
            "\u001b[0m\u001b[0m\u001b[1m\u001b[32m    Finished\u001b[0m release [optimized] target(s) in 0.55s\n",
            "\u001b[0m\u001b[0m\u001b[1m\u001b[32m     Running\u001b[0m `target/release/measure`\n",
            "10.604 sec\n",
            "[205, 178, 63, 42, 187]\n",
            "63749253\n"
          ]
        }
      ]
    },
    {
      "cell_type": "markdown",
      "source": [
        "同じでした。"
      ],
      "metadata": {
        "id": "tEyY-FgP36Er"
      }
    },
    {
      "cell_type": "markdown",
      "metadata": {
        "id": "72uw1RL20nS1"
      },
      "source": [
        "## 5バイト配列から40bit整数への変換\n",
        "\n",
        "> `u64::from_le_bytes() & 0xFF_FFFF_FFFF`がおすすめ"
      ]
    },
    {
      "cell_type": "markdown",
      "source": [
        "まずは愚直な方法"
      ],
      "metadata": {
        "id": "-E5YOKWe5ZZi"
      }
    },
    {
      "cell_type": "code",
      "source": [
        "%%writefile src/main.rs\n",
        "use rand;\n",
        "use rand::prelude::*;\n",
        "use std::time::Instant;\n",
        "\n",
        "fn main() {\n",
        "    const COUNT: usize = 10_000_000_000;\n",
        "    const SIZE: usize = 100_000;\n",
        "    let mut rng: rand::rngs::StdRng = rand::SeedableRng::seed_from_u64(0);\n",
        "    let mut buf: Vec<[u8; 5]> = Vec::new();\n",
        "    for _ in 0..SIZE {\n",
        "        buf.push([rng.gen_range(0..256) as u8,\n",
        "                  rng.gen_range(0..256) as u8,\n",
        "                  rng.gen_range(0..256) as u8,\n",
        "                  rng.gen_range(0..256) as u8,\n",
        "                  rng.gen_range(0..256) as u8])\n",
        "    }\n",
        "\n",
        "    let start = Instant::now();\n",
        "    let mut total: u64 = 0;\n",
        "    for i in 0..COUNT {\n",
        "        let b = buf[(i % SIZE) as usize];\n",
        "        let mut v = 0;\n",
        "        for j in 0..5 {\n",
        "            v += (b[j] as u64) << (8 * j);\n",
        "        }\n",
        "        total += v;\n",
        "    }\n",
        "    let end = start.elapsed();\n",
        "\n",
        "    println!(\n",
        "        \"{}.{:03} sec\",\n",
        "        end.as_secs(),\n",
        "        end.subsec_nanos() / 1_000_000\n",
        "    );\n",
        "    println!(\"{}\", total);\n",
        "}"
      ],
      "metadata": {
        "colab": {
          "base_uri": "https://localhost:8080/"
        },
        "id": "z9XmkVT84e6A",
        "outputId": "fd7a4b97-7cc5-45c2-e842-a0adfc600951"
      },
      "execution_count": 134,
      "outputs": [
        {
          "output_type": "stream",
          "name": "stdout",
          "text": [
            "Overwriting src/main.rs\n"
          ]
        }
      ]
    },
    {
      "cell_type": "code",
      "source": [
        "!cargo run --release"
      ],
      "metadata": {
        "colab": {
          "base_uri": "https://localhost:8080/"
        },
        "id": "NU1JGdH74euD",
        "outputId": "d0d355d5-0b91-4c25-97ad-384d6cfd994b"
      },
      "execution_count": 135,
      "outputs": [
        {
          "output_type": "stream",
          "name": "stdout",
          "text": [
            "\u001b[0m\u001b[0m\u001b[1m\u001b[32m   Compiling\u001b[0m measure v0.1.0 (/content/measure)\n",
            "\u001b[0m\u001b[0m\u001b[1m\u001b[32m    Finished\u001b[0m release [optimized] target(s) in 0.59s\n",
            "\u001b[0m\u001b[0m\u001b[1m\u001b[32m     Running\u001b[0m `target/release/measure`\n",
            "23.175 sec\n",
            "1666958173003018432\n"
          ]
        }
      ]
    },
    {
      "cell_type": "markdown",
      "source": [
        "for文の展開"
      ],
      "metadata": {
        "id": "WjmZlLsz5eMy"
      }
    },
    {
      "cell_type": "code",
      "metadata": {
        "colab": {
          "base_uri": "https://localhost:8080/"
        },
        "id": "PYywPApH1c1U",
        "outputId": "964e6db8-dd3f-4aff-a711-e4272f36cc37"
      },
      "source": [
        "%%writefile src/main.rs\n",
        "use rand;\n",
        "use rand::prelude::*;\n",
        "use std::time::Instant;\n",
        "\n",
        "fn main() {\n",
        "    const COUNT: usize = 10_000_000_000;\n",
        "    const SIZE: usize = 100_000;\n",
        "    let mut rng: rand::rngs::StdRng = rand::SeedableRng::seed_from_u64(0);\n",
        "    let mut buf: Vec<[u8; 5]> = Vec::new();\n",
        "    for _ in 0..SIZE {\n",
        "        buf.push([rng.gen_range(0..256) as u8,\n",
        "                  rng.gen_range(0..256) as u8,\n",
        "                  rng.gen_range(0..256) as u8,\n",
        "                  rng.gen_range(0..256) as u8,\n",
        "                  rng.gen_range(0..256) as u8])\n",
        "    }\n",
        "\n",
        "    let start = Instant::now();\n",
        "    let mut total: u64 = 0;\n",
        "    for i in 0..COUNT {\n",
        "        let b = buf[(i % SIZE) as usize];\n",
        "        let mut v = b[0] as u64;\n",
        "        v += (b[1] as u64) << 8;\n",
        "        v += (b[2] as u64) << 16;\n",
        "        v += (b[3] as u64) << 24;\n",
        "        v += (b[4] as u64) << 32;\n",
        "        total += v;\n",
        "    }\n",
        "    let end = start.elapsed();\n",
        "\n",
        "    println!(\n",
        "        \"{}.{:03} sec\",\n",
        "        end.as_secs(),\n",
        "        end.subsec_nanos() / 1_000_000\n",
        "    );\n",
        "    println!(\"{}\", total);\n",
        "}"
      ],
      "execution_count": 130,
      "outputs": [
        {
          "output_type": "stream",
          "name": "stdout",
          "text": [
            "Overwriting src/main.rs\n"
          ]
        }
      ]
    },
    {
      "cell_type": "code",
      "metadata": {
        "colab": {
          "base_uri": "https://localhost:8080/"
        },
        "id": "qeQ6QDlY1fJU",
        "outputId": "df259692-4c39-4dfd-d716-70781ed9f4ca"
      },
      "source": [
        "!cargo run --release"
      ],
      "execution_count": 131,
      "outputs": [
        {
          "output_type": "stream",
          "name": "stdout",
          "text": [
            "\u001b[0m\u001b[0m\u001b[1m\u001b[32m   Compiling\u001b[0m measure v0.1.0 (/content/measure)\n",
            "\u001b[0m\u001b[0m\u001b[1m\u001b[32m    Finished\u001b[0m release [optimized] target(s) in 0.57s\n",
            "\u001b[0m\u001b[0m\u001b[1m\u001b[32m     Running\u001b[0m `target/release/measure`\n",
            "23.188 sec\n",
            "1666958173003018432\n"
          ]
        }
      ]
    },
    {
      "cell_type": "markdown",
      "source": [
        "こちらはfor文を展開しても処理時間は変わりませんでした。"
      ],
      "metadata": {
        "id": "mg8WHhWK52Vu"
      }
    },
    {
      "cell_type": "markdown",
      "source": [
        "次に関数利用"
      ],
      "metadata": {
        "id": "jPMmBZ2j5_pw"
      }
    },
    {
      "cell_type": "code",
      "metadata": {
        "colab": {
          "base_uri": "https://localhost:8080/"
        },
        "id": "ygwYK9pK2DHh",
        "outputId": "6a61c919-13c9-4cb8-a9e8-578a66562d75"
      },
      "source": [
        "%%writefile src/main.rs\n",
        "use rand;\n",
        "use rand::prelude::*;\n",
        "use std::time::Instant;\n",
        "\n",
        "fn main() {\n",
        "    const COUNT: usize = 10_000_000_000;\n",
        "    const SIZE: usize = 100_000;\n",
        "    let mut rng: rand::rngs::StdRng = rand::SeedableRng::seed_from_u64(0);\n",
        "    let mut buf: Vec<[u8; 8]> = Vec::new();\n",
        "    for _ in 0..SIZE {\n",
        "        buf.push([rng.gen_range(0..256) as u8,\n",
        "                  rng.gen_range(0..256) as u8,\n",
        "                  rng.gen_range(0..256) as u8,\n",
        "                  rng.gen_range(0..256) as u8,\n",
        "                  rng.gen_range(0..256) as u8,\n",
        "                  0 as u8, 0 as u8, 0 as u8])\n",
        "    }\n",
        "\n",
        "    let start = Instant::now();\n",
        "    let mut total: u64 = 0;\n",
        "    for i in 0..COUNT {\n",
        "        total += u64::from_le_bytes(buf[i % SIZE]) & 0xFF_FFFF_FFFF;\n",
        "    }\n",
        "    let end = start.elapsed();\n",
        "\n",
        "    println!(\n",
        "        \"{}.{:03} sec\",\n",
        "        end.as_secs(),\n",
        "        end.subsec_nanos() / 1_000_000\n",
        "    );\n",
        "    println!(\"{}\", total);\n",
        "}"
      ],
      "execution_count": 136,
      "outputs": [
        {
          "output_type": "stream",
          "name": "stdout",
          "text": [
            "Overwriting src/main.rs\n"
          ]
        }
      ]
    },
    {
      "cell_type": "code",
      "metadata": {
        "colab": {
          "base_uri": "https://localhost:8080/"
        },
        "id": "jmAqZ3JS2E91",
        "outputId": "50aa6b9b-96d5-4aaf-ee5e-cea203a3542f"
      },
      "source": [
        "!cargo run --release"
      ],
      "execution_count": 137,
      "outputs": [
        {
          "output_type": "stream",
          "name": "stdout",
          "text": [
            "\u001b[0m\u001b[0m\u001b[1m\u001b[32m   Compiling\u001b[0m measure v0.1.0 (/content/measure)\n",
            "\u001b[0m\u001b[0m\u001b[1m\u001b[32m    Finished\u001b[0m release [optimized] target(s) in 0.59s\n",
            "\u001b[0m\u001b[0m\u001b[1m\u001b[32m     Running\u001b[0m `target/release/measure`\n",
            "19.736 sec\n",
            "1666958173003018432\n"
          ]
        }
      ]
    },
    {
      "cell_type": "markdown",
      "source": [
        "少し速くなりました。"
      ],
      "metadata": {
        "id": "-DT8WUGz6Exl"
      }
    },
    {
      "cell_type": "markdown",
      "source": [
        "40bitに切り詰めるのに別の方法を使ってみます。"
      ],
      "metadata": {
        "id": "DWlVEjIc6ZBE"
      }
    },
    {
      "cell_type": "code",
      "metadata": {
        "colab": {
          "base_uri": "https://localhost:8080/"
        },
        "id": "jlsNNUxEtaYK",
        "outputId": "8a98f963-1825-4a04-a465-2dadd6672041"
      },
      "source": [
        "%%writefile src/main.rs\n",
        "use rand;\n",
        "use rand::prelude::*;\n",
        "use std::time::Instant;\n",
        "\n",
        "fn main() {\n",
        "    const COUNT: usize = 10_000_000_000;\n",
        "    const SIZE: usize = 100_000;\n",
        "    let mut rng: rand::rngs::StdRng = rand::SeedableRng::seed_from_u64(0);\n",
        "    let mut buf: Vec<[u8; 5]> = Vec::new();\n",
        "    for _ in 0..SIZE {\n",
        "        buf.push([rng.gen_range(0..256) as u8,\n",
        "                  rng.gen_range(0..256) as u8,\n",
        "                  rng.gen_range(0..256) as u8,\n",
        "                  rng.gen_range(0..256) as u8,\n",
        "                  rng.gen_range(0..256) as u8])\n",
        "    }\n",
        "\n",
        "    let start = Instant::now();\n",
        "    let mut total: u64 = 0;\n",
        "    for i in 0..COUNT {\n",
        "        let b = &buf[i % SIZE];\n",
        "        total += u64::from_le_bytes([b[0], b[1], b[2], b[3], b[4], 0, 0, 0]);\n",
        "    }\n",
        "    let end = start.elapsed();\n",
        "\n",
        "    println!(\n",
        "        \"{}.{:03} sec\",\n",
        "        end.as_secs(),\n",
        "        end.subsec_nanos() / 1_000_000\n",
        "    );\n",
        "    println!(\"{}\", total);\n",
        "}"
      ],
      "execution_count": 138,
      "outputs": [
        {
          "output_type": "stream",
          "name": "stdout",
          "text": [
            "Overwriting src/main.rs\n"
          ]
        }
      ]
    },
    {
      "cell_type": "code",
      "metadata": {
        "colab": {
          "base_uri": "https://localhost:8080/"
        },
        "id": "lOTbr4IStaR6",
        "outputId": "3af43523-be9f-4eef-ad61-29d00594f11e"
      },
      "source": [
        "!cargo run --release"
      ],
      "execution_count": 139,
      "outputs": [
        {
          "output_type": "stream",
          "name": "stdout",
          "text": [
            "\u001b[0m\u001b[0m\u001b[1m\u001b[32m   Compiling\u001b[0m measure v0.1.0 (/content/measure)\n",
            "\u001b[0m\u001b[0m\u001b[1m\u001b[32m    Finished\u001b[0m release [optimized] target(s) in 0.61s\n",
            "\u001b[0m\u001b[0m\u001b[1m\u001b[32m     Running\u001b[0m `target/release/measure`\n",
            "23.203 sec\n",
            "1666958173003018432\n"
          ]
        }
      ]
    },
    {
      "cell_type": "markdown",
      "source": [
        "遅くなりました。"
      ],
      "metadata": {
        "id": "YOBltiO86gFV"
      }
    },
    {
      "cell_type": "markdown",
      "source": [
        "さらに別の方法。"
      ],
      "metadata": {
        "id": "jewERp1G6lz1"
      }
    },
    {
      "cell_type": "code",
      "metadata": {
        "colab": {
          "base_uri": "https://localhost:8080/"
        },
        "id": "-h3tnX9A2TtO",
        "outputId": "e9788e01-dd5d-4f19-8330-a5583cf3aacb"
      },
      "source": [
        "%%writefile src/main.rs\n",
        "use rand;\n",
        "use rand::prelude::*;\n",
        "use std::time::Instant;\n",
        "\n",
        "fn main() {\n",
        "    const COUNT: usize = 10_000_000_000;\n",
        "    const SIZE: usize = 100_000;\n",
        "    let mut rng: rand::rngs::StdRng = rand::SeedableRng::seed_from_u64(0);\n",
        "    let mut buf: Vec<[u8; 5]> = Vec::new();\n",
        "    for _ in 0..SIZE {\n",
        "        buf.push([rng.gen_range(0..256) as u8,\n",
        "                  rng.gen_range(0..256) as u8,\n",
        "                  rng.gen_range(0..256) as u8,\n",
        "                  rng.gen_range(0..256) as u8,\n",
        "                  rng.gen_range(0..256) as u8])\n",
        "    }\n",
        "\n",
        "    let start = Instant::now();\n",
        "    let mut total: u64 = 0;\n",
        "    for i in 0..COUNT {\n",
        "        let b = buf[i % SIZE];\n",
        "        total += u32::from_le_bytes([b[0], b[1], b[2], b[3]]) as u64 + ((b[4] as u64) << 32);\n",
        "    }\n",
        "    let end = start.elapsed();\n",
        "\n",
        "    println!(\n",
        "        \"{}.{:03} sec\",\n",
        "        end.as_secs(),\n",
        "        end.subsec_nanos() / 1_000_000\n",
        "    );\n",
        "    println!(\"{}\", total);\n",
        "}"
      ],
      "execution_count": 140,
      "outputs": [
        {
          "output_type": "stream",
          "name": "stdout",
          "text": [
            "Overwriting src/main.rs\n"
          ]
        }
      ]
    },
    {
      "cell_type": "code",
      "metadata": {
        "colab": {
          "base_uri": "https://localhost:8080/"
        },
        "id": "bkUahIlU2TY1",
        "outputId": "d1b4c49f-b12b-4471-a937-aae86089d8cc"
      },
      "source": [
        "!cargo run --release"
      ],
      "execution_count": 141,
      "outputs": [
        {
          "output_type": "stream",
          "name": "stdout",
          "text": [
            "\u001b[0m\u001b[0m\u001b[1m\u001b[32m   Compiling\u001b[0m measure v0.1.0 (/content/measure)\n",
            "\u001b[0m\u001b[0m\u001b[1m\u001b[32m    Finished\u001b[0m release [optimized] target(s) in 0.59s\n",
            "\u001b[0m\u001b[0m\u001b[1m\u001b[32m     Running\u001b[0m `target/release/measure`\n",
            "23.502 sec\n",
            "1666958173003018432\n"
          ]
        }
      ]
    },
    {
      "cell_type": "markdown",
      "source": [
        "遅いです。"
      ],
      "metadata": {
        "id": "MEKnX9F96r97"
      }
    },
    {
      "cell_type": "markdown",
      "source": [
        "さらに別の方法。"
      ],
      "metadata": {
        "id": "Yc1TIf5Q6wkW"
      }
    },
    {
      "cell_type": "code",
      "metadata": {
        "colab": {
          "base_uri": "https://localhost:8080/"
        },
        "id": "HGM4GhnnnUkq",
        "outputId": "d87f3756-6a27-4b54-b9d0-cddef3085b51"
      },
      "source": [
        "%%writefile src/main.rs\n",
        "use rand;\n",
        "use rand::prelude::*;\n",
        "use std::time::Instant;\n",
        "\n",
        "fn main() {\n",
        "    const COUNT: usize = 10_000_000_000;\n",
        "    const SIZE: usize = 100_000;\n",
        "    let mut rng: rand::rngs::StdRng = rand::SeedableRng::seed_from_u64(0);\n",
        "    let mut buf: Vec<[u8; 5]> = Vec::new();\n",
        "    for _ in 0..SIZE {\n",
        "        buf.push([rng.gen_range(0..256) as u8,\n",
        "                  rng.gen_range(0..256) as u8,\n",
        "                  rng.gen_range(0..256) as u8,\n",
        "                  rng.gen_range(0..256) as u8,\n",
        "                  rng.gen_range(0..256) as u8])\n",
        "    }\n",
        "\n",
        "    let start = Instant::now();\n",
        "    let mut total: u64 = 0;\n",
        "    for i in 0..COUNT {\n",
        "        let b = buf[i % SIZE];\n",
        "        unsafe {\n",
        "            let ptr: *mut u32 = b.as_ptr() as *mut u32;\n",
        "            total += (*ptr as u64) + ((b[4] as u64) << 32);\n",
        "        }\n",
        "    }\n",
        "    let end = start.elapsed();\n",
        "\n",
        "\n",
        "    println!(\n",
        "        \"{}.{:03} sec\",\n",
        "        end.as_secs(),\n",
        "        end.subsec_nanos() / 1_000_000\n",
        "    );\n",
        "    println!(\"{}\", total);\n",
        "}"
      ],
      "execution_count": 142,
      "outputs": [
        {
          "output_type": "stream",
          "name": "stdout",
          "text": [
            "Overwriting src/main.rs\n"
          ]
        }
      ]
    },
    {
      "cell_type": "code",
      "metadata": {
        "colab": {
          "base_uri": "https://localhost:8080/"
        },
        "id": "2Fw4_aQnnUe6",
        "outputId": "95b7cca5-7224-4a02-a64f-085a4afee8c3"
      },
      "source": [
        "!cargo run --release"
      ],
      "execution_count": 143,
      "outputs": [
        {
          "output_type": "stream",
          "name": "stdout",
          "text": [
            "\u001b[0m\u001b[0m\u001b[1m\u001b[32m   Compiling\u001b[0m measure v0.1.0 (/content/measure)\n",
            "\u001b[0m\u001b[0m\u001b[1m\u001b[32m    Finished\u001b[0m release [optimized] target(s) in 0.60s\n",
            "\u001b[0m\u001b[0m\u001b[1m\u001b[32m     Running\u001b[0m `target/release/measure`\n",
            "27.194 sec\n",
            "1666958173003018432\n"
          ]
        }
      ]
    },
    {
      "cell_type": "markdown",
      "source": [
        "遅いです。"
      ],
      "metadata": {
        "id": "IFL1kJD769FM"
      }
    },
    {
      "cell_type": "markdown",
      "source": [
        "ポインターを使った方法を試します。\n",
        "\n",
        "まずは0xFF_FFFF_FFFFマスクを使った方法。"
      ],
      "metadata": {
        "id": "eQJmGwgP7GlN"
      }
    },
    {
      "cell_type": "code",
      "metadata": {
        "colab": {
          "base_uri": "https://localhost:8080/"
        },
        "id": "mY74CvBtiS3K",
        "outputId": "e65edace-1afd-4d94-b1b7-ea9f03267cc4"
      },
      "source": [
        "%%writefile src/main.rs\n",
        "use rand;\n",
        "use rand::prelude::*;\n",
        "use std::time::Instant;\n",
        "\n",
        "fn main() {\n",
        "    const COUNT: usize = 10_000_000_000;\n",
        "    const SIZE: usize = 100_000;\n",
        "    let mut rng: rand::rngs::StdRng = rand::SeedableRng::seed_from_u64(0);\n",
        "    let mut buf: Vec<[u8; 8]> = Vec::new();\n",
        "    for _ in 0..SIZE {\n",
        "        buf.push([rng.gen_range(0..256) as u8,\n",
        "                  rng.gen_range(0..256) as u8,\n",
        "                  rng.gen_range(0..256) as u8,\n",
        "                  rng.gen_range(0..256) as u8,\n",
        "                  rng.gen_range(0..256) as u8,\n",
        "                  0 as u8, 0 as u8, 0 as u8]);\n",
        "    }\n",
        "\n",
        "    let start = Instant::now();\n",
        "    let mut total: u64 = 0;\n",
        "    for i in 0..COUNT {\n",
        "        let b = buf[i % SIZE];\n",
        "        unsafe {\n",
        "            let ptr: *mut u64 = b.as_ptr() as *mut u64;\n",
        "            total += *ptr & 0xFF_FFFF_FFFF;\n",
        "        }\n",
        "    }\n",
        "    let end = start.elapsed();\n",
        "\n",
        "\n",
        "    println!(\n",
        "        \"{}.{:03} sec\",\n",
        "        end.as_secs(),\n",
        "        end.subsec_nanos() / 1_000_000\n",
        "    );\n",
        "    println!(\"{}\", total);\n",
        "}"
      ],
      "execution_count": 144,
      "outputs": [
        {
          "output_type": "stream",
          "name": "stdout",
          "text": [
            "Overwriting src/main.rs\n"
          ]
        }
      ]
    },
    {
      "cell_type": "code",
      "metadata": {
        "colab": {
          "base_uri": "https://localhost:8080/"
        },
        "id": "awFt-NCAiSuS",
        "outputId": "54a47298-64fd-4bc3-ba12-df8bfcbce540"
      },
      "source": [
        "!cargo run --release"
      ],
      "execution_count": 145,
      "outputs": [
        {
          "output_type": "stream",
          "name": "stdout",
          "text": [
            "\u001b[0m\u001b[0m\u001b[1m\u001b[32m   Compiling\u001b[0m measure v0.1.0 (/content/measure)\n",
            "\u001b[0m\u001b[0m\u001b[1m\u001b[32m    Finished\u001b[0m release [optimized] target(s) in 0.58s\n",
            "\u001b[0m\u001b[0m\u001b[1m\u001b[32m     Running\u001b[0m `target/release/measure`\n",
            "19.383 sec\n",
            "1666958173003018432\n"
          ]
        }
      ]
    },
    {
      "cell_type": "markdown",
      "source": [
        "速くなりました。どうやらこれが最速のようです。"
      ],
      "metadata": {
        "id": "XXcV_XVD7aqU"
      }
    },
    {
      "cell_type": "markdown",
      "source": [
        "以下、その他の切り詰め方法。"
      ],
      "metadata": {
        "id": "_SSJtY427gGA"
      }
    },
    {
      "cell_type": "code",
      "metadata": {
        "colab": {
          "base_uri": "https://localhost:8080/"
        },
        "id": "V1qHUSJKuSyJ",
        "outputId": "d3c8d0f4-8890-4411-e48e-e17ff1aa4025"
      },
      "source": [
        "%%writefile src/main.rs\n",
        "use rand;\n",
        "use rand::prelude::*;\n",
        "use std::time::Instant;\n",
        "\n",
        "fn main() {\n",
        "    const COUNT: usize = 10_000_000_000;\n",
        "    const SIZE: usize = 100_000;\n",
        "    let mut rng: rand::rngs::StdRng = rand::SeedableRng::seed_from_u64(0);\n",
        "    let mut buf: Vec<[u8; 5]> = Vec::new();\n",
        "    for _ in 0..SIZE {\n",
        "        buf.push([rng.gen_range(0..256) as u8,\n",
        "                  rng.gen_range(0..256) as u8,\n",
        "                  rng.gen_range(0..256) as u8,\n",
        "                  rng.gen_range(0..256) as u8,\n",
        "                  rng.gen_range(0..256) as u8]);\n",
        "    }\n",
        "\n",
        "    let start = Instant::now();\n",
        "    let mut total: u64 = 0;\n",
        "    for i in 0..COUNT {\n",
        "        let b = buf[i % SIZE];\n",
        "        let b = [b[0], b[1], b[2], b[3], b[4], 0, 0, 0];\n",
        "        unsafe {\n",
        "            total += *(b.as_ptr() as *mut u64);\n",
        "        }\n",
        "    }\n",
        "    let end = start.elapsed();\n",
        "\n",
        "\n",
        "    println!(\n",
        "        \"{}.{:03} sec\",\n",
        "        end.as_secs(),\n",
        "        end.subsec_nanos() / 1_000_000\n",
        "    );\n",
        "    println!(\"{}\", total);\n",
        "}"
      ],
      "execution_count": 146,
      "outputs": [
        {
          "output_type": "stream",
          "name": "stdout",
          "text": [
            "Overwriting src/main.rs\n"
          ]
        }
      ]
    },
    {
      "cell_type": "code",
      "metadata": {
        "colab": {
          "base_uri": "https://localhost:8080/"
        },
        "id": "_hnbvJWJuSsx",
        "outputId": "7267668d-2c6d-4365-ba37-2dd5654d4888"
      },
      "source": [
        "!cargo run --release"
      ],
      "execution_count": 147,
      "outputs": [
        {
          "output_type": "stream",
          "name": "stdout",
          "text": [
            "\u001b[0m\u001b[0m\u001b[1m\u001b[32m   Compiling\u001b[0m measure v0.1.0 (/content/measure)\n",
            "\u001b[0m\u001b[0m\u001b[1m\u001b[32m    Finished\u001b[0m release [optimized] target(s) in 0.58s\n",
            "\u001b[0m\u001b[0m\u001b[1m\u001b[32m     Running\u001b[0m `target/release/measure`\n",
            "23.207 sec\n",
            "1666958173003018432\n"
          ]
        }
      ]
    },
    {
      "cell_type": "markdown",
      "source": [
        "遅い。"
      ],
      "metadata": {
        "id": "sKvjXoC27t8G"
      }
    },
    {
      "cell_type": "code",
      "metadata": {
        "colab": {
          "base_uri": "https://localhost:8080/"
        },
        "id": "YzWCIZwbsNW0",
        "outputId": "7d30c74c-ccfb-4356-aa74-3e669f122e60"
      },
      "source": [
        "%%writefile src/main.rs\n",
        "use rand;\n",
        "use rand::prelude::*;\n",
        "use std::time::Instant;\n",
        "\n",
        "fn main() {\n",
        "    const COUNT: usize = 10_000_000_000;\n",
        "    const SIZE: usize = 100_000;\n",
        "    let mut rng: rand::rngs::StdRng = rand::SeedableRng::seed_from_u64(0);\n",
        "    let mut buf: Vec<[u8; 5]> = Vec::new();\n",
        "    for _ in 0..SIZE {\n",
        "        buf.push([rng.gen_range(0..256) as u8,\n",
        "                  rng.gen_range(0..256) as u8,\n",
        "                  rng.gen_range(0..256) as u8,\n",
        "                  rng.gen_range(0..256) as u8,\n",
        "                  rng.gen_range(0..256) as u8])\n",
        "    }\n",
        "\n",
        "    let start = Instant::now();\n",
        "    let mut total: u64 = 0;\n",
        "    for i in 0..COUNT {\n",
        "        let b = buf[i % SIZE];\n",
        "        total += u64::from_le_bytes([b[0], b[1], b[2], b[3], b[4], 0, 0, 0]);\n",
        "    }\n",
        "    let end = start.elapsed();\n",
        "\n",
        "    println!(\n",
        "        \"{}.{:03} sec\",\n",
        "        end.as_secs(),\n",
        "        end.subsec_nanos() / 1_000_000\n",
        "    );\n",
        "    println!(\"{}\", total);\n",
        "}"
      ],
      "execution_count": 148,
      "outputs": [
        {
          "output_type": "stream",
          "name": "stdout",
          "text": [
            "Overwriting src/main.rs\n"
          ]
        }
      ]
    },
    {
      "cell_type": "code",
      "metadata": {
        "colab": {
          "base_uri": "https://localhost:8080/"
        },
        "id": "2ydtJHxDsNNd",
        "outputId": "bbfe8438-dd42-42bd-fc50-917fb4f53b10"
      },
      "source": [
        "!cargo run --release"
      ],
      "execution_count": 149,
      "outputs": [
        {
          "output_type": "stream",
          "name": "stdout",
          "text": [
            "\u001b[0m\u001b[0m\u001b[1m\u001b[32m   Compiling\u001b[0m measure v0.1.0 (/content/measure)\n",
            "\u001b[0m\u001b[0m\u001b[1m\u001b[32m    Finished\u001b[0m release [optimized] target(s) in 0.59s\n",
            "\u001b[0m\u001b[0m\u001b[1m\u001b[32m     Running\u001b[0m `target/release/measure`\n",
            "23.126 sec\n",
            "1666958173003018432\n"
          ]
        }
      ]
    },
    {
      "cell_type": "markdown",
      "source": [
        "遅い。"
      ],
      "metadata": {
        "id": "qtJP-31c73gr"
      }
    },
    {
      "cell_type": "code",
      "metadata": {
        "colab": {
          "base_uri": "https://localhost:8080/"
        },
        "id": "zzIKQvFls-tM",
        "outputId": "2afd12a3-c18f-425a-ee53-a8af54623376"
      },
      "source": [
        "%%writefile src/main.rs\n",
        "use rand;\n",
        "use rand::prelude::*;\n",
        "use std::time::Instant;\n",
        "\n",
        "fn main() {\n",
        "    const COUNT: usize = 10_000_000_000;\n",
        "    const SIZE: usize = 100_000;\n",
        "    let mut rng: rand::rngs::StdRng = rand::SeedableRng::seed_from_u64(0);\n",
        "    let mut buf: Vec<[u8; 5]> = Vec::new();\n",
        "    for _ in 0..SIZE {\n",
        "        buf.push([rng.gen_range(0..256) as u8,\n",
        "                  rng.gen_range(0..256) as u8,\n",
        "                  rng.gen_range(0..256) as u8,\n",
        "                  rng.gen_range(0..256) as u8,\n",
        "                  rng.gen_range(0..256) as u8])\n",
        "    }\n",
        "\n",
        "    let start = Instant::now();\n",
        "    let mut total: u64 = 0;\n",
        "    for i in 0..COUNT {\n",
        "        let b = buf[i % SIZE];\n",
        "        total += (b[0] as u64) + ((b[1] as u64) << 8) + ((b[2] as u64) << 16) + ((b[3] as u64) << 24) + ((b[4] as u64) << 32);\n",
        "    }\n",
        "    let end = start.elapsed();\n",
        "\n",
        "    println!(\n",
        "        \"{}.{:03} sec\",\n",
        "        end.as_secs(),\n",
        "        end.subsec_nanos() / 1_000_000\n",
        "    );\n",
        "    println!(\"{}\", total);\n",
        "}"
      ],
      "execution_count": 150,
      "outputs": [
        {
          "output_type": "stream",
          "name": "stdout",
          "text": [
            "Overwriting src/main.rs\n"
          ]
        }
      ]
    },
    {
      "cell_type": "code",
      "metadata": {
        "colab": {
          "base_uri": "https://localhost:8080/"
        },
        "id": "xJjKlvYps-k3",
        "outputId": "943b62a4-872a-42c4-fc48-8ca7e1dfecfe"
      },
      "source": [
        "!cargo run --release"
      ],
      "execution_count": 151,
      "outputs": [
        {
          "output_type": "stream",
          "name": "stdout",
          "text": [
            "\u001b[0m\u001b[0m\u001b[1m\u001b[32m   Compiling\u001b[0m measure v0.1.0 (/content/measure)\n",
            "\u001b[0m\u001b[0m\u001b[1m\u001b[32m    Finished\u001b[0m release [optimized] target(s) in 0.57s\n",
            "\u001b[0m\u001b[0m\u001b[1m\u001b[32m     Running\u001b[0m `target/release/measure`\n",
            "23.445 sec\n",
            "1666958173003018432\n"
          ]
        }
      ]
    },
    {
      "cell_type": "markdown",
      "source": [
        "遅い。"
      ],
      "metadata": {
        "id": "jwjUohv677u2"
      }
    },
    {
      "cell_type": "markdown",
      "metadata": {
        "id": "UrnHAtF0CfPJ"
      },
      "source": [
        "## 40bit整数の配列の5Nバイト配列化\n",
        "\n",
        "> `*(buf[idx*5..].as_ptr() as *mut u64) = v`が最速"
      ]
    },
    {
      "cell_type": "markdown",
      "source": [
        "40bit整数の配列を5Nバイト配列に変換するには以下の図の戦略が使えます。"
      ],
      "metadata": {
        "id": "tLalGcT98IOS"
      }
    },
    {
      "cell_type": "markdown",
      "metadata": {
        "id": "i60NjXX7bTR_"
      },
      "source": [
        "<image width=500 src=\"data:image/png;base64,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\">"
      ]
    },
    {
      "cell_type": "markdown",
      "source": [
        "まずは素朴な実装。"
      ],
      "metadata": {
        "id": "QcXWKHLW_KET"
      }
    },
    {
      "cell_type": "code",
      "source": [
        "%%writefile src/main.rs\n",
        "use std::time::Instant;\n",
        "use rand;\n",
        "use rand::prelude::*;\n",
        "\n",
        "fn main() {\n",
        "    const COUNT: usize = 100_000;\n",
        "    const SIZE: usize = 100_000;\n",
        "    let mut rng: rand::rngs::StdRng = rand::SeedableRng::seed_from_u64(0);\n",
        "    let mut vs: [u64; SIZE] = [0; SIZE];\n",
        "    for i in 0..SIZE {\n",
        "        vs[i] = rng.gen_range(0..(1<<40));\n",
        "    }\n",
        "\n",
        "    let mut buf: [u8; 5 * SIZE] = [0; 5 * SIZE];\n",
        "\n",
        "    let start = Instant::now();\n",
        "    for _ in 0..COUNT {\n",
        "        for idx in 0..SIZE {\n",
        "            let v = vs[idx];\n",
        "            let b = &mut buf[(idx*5)..];\n",
        "            for i in 0..5 {\n",
        "                b[i] = (v >> (8 * i)) as u8;\n",
        "            }\n",
        "        }\n",
        "    }\n",
        "    let end = start.elapsed();\n",
        "\n",
        "    println!(\n",
        "        \"{}.{:03} sec\",\n",
        "        end.as_secs(),\n",
        "        end.subsec_nanos() / 1_000_000\n",
        "    );\n",
        "\n",
        "    // 時間測定外の処理\n",
        "    println!(\"{:?}\", buf[0]);\n",
        "    let mut total: usize = 0;\n",
        "    for i in 0..SIZE {\n",
        "        for j in 0..5 {\n",
        "            total += buf[i*5+j] as usize;\n",
        "        }\n",
        "    }\n",
        "    println!(\"{}\", total);\n",
        "}\n"
      ],
      "metadata": {
        "colab": {
          "base_uri": "https://localhost:8080/"
        },
        "id": "lC2kY7S29VjH",
        "outputId": "d1351fb4-f80e-4030-ca37-17923bfc6458"
      },
      "execution_count": 156,
      "outputs": [
        {
          "output_type": "stream",
          "name": "stdout",
          "text": [
            "Overwriting src/main.rs\n"
          ]
        }
      ]
    },
    {
      "cell_type": "code",
      "source": [
        "!cargo run --release"
      ],
      "metadata": {
        "colab": {
          "base_uri": "https://localhost:8080/"
        },
        "id": "QsPDRdJQ9VZ0",
        "outputId": "68b3854c-d1f0-4ae2-80c7-c7b7cd23926a"
      },
      "execution_count": 157,
      "outputs": [
        {
          "output_type": "stream",
          "name": "stdout",
          "text": [
            "\u001b[0m\u001b[0m\u001b[1m\u001b[32m   Compiling\u001b[0m measure v0.1.0 (/content/measure)\n",
            "\u001b[0m\u001b[0m\u001b[1m\u001b[32m    Finished\u001b[0m release [optimized] target(s) in 0.50s\n",
            "\u001b[0m\u001b[0m\u001b[1m\u001b[32m     Running\u001b[0m `target/release/measure`\n",
            "21.872 sec\n",
            "205\n",
            "63749253\n"
          ]
        }
      ]
    },
    {
      "cell_type": "markdown",
      "source": [
        "遅い。Go言語よりも遅いです。"
      ],
      "metadata": {
        "id": "fHtXVBDP_NVe"
      }
    },
    {
      "cell_type": "markdown",
      "source": [
        "内側のforループの展開。"
      ],
      "metadata": {
        "id": "wMnwezYX_Vmj"
      }
    },
    {
      "cell_type": "code",
      "metadata": {
        "colab": {
          "base_uri": "https://localhost:8080/"
        },
        "id": "Opv8hlPmQYR-",
        "outputId": "4fdb5114-8bce-4a4e-8f4b-bba60b1608c8"
      },
      "source": [
        "%%writefile src/main.rs\n",
        "use std::time::Instant;\n",
        "use rand;\n",
        "use rand::prelude::*;\n",
        "\n",
        "fn main() {\n",
        "    const COUNT: usize = 100_000;\n",
        "    const SIZE: usize = 100_000;\n",
        "    let mut rng: rand::rngs::StdRng = rand::SeedableRng::seed_from_u64(0);\n",
        "    let mut vs: [u64; SIZE] = [0; SIZE];\n",
        "    for i in 0..SIZE {\n",
        "        vs[i] = rng.gen_range(0..(1<<40));\n",
        "    }\n",
        "\n",
        "    let mut buf: [u8; 5 * SIZE] = [0; 5 * SIZE];\n",
        "\n",
        "    let start = Instant::now();\n",
        "    for _ in 0..COUNT {\n",
        "        for idx in 0..SIZE {\n",
        "            let v = vs[idx];\n",
        "            let b = &mut buf[(idx*5)..];\n",
        "            b[0] = v as u8;\n",
        "            b[1] = (v >> 8) as u8;\n",
        "            b[2] = (v >> 16) as u8;\n",
        "            b[3] = (v >> 24) as u8;\n",
        "            b[4] = (v >> 32) as u8;\n",
        "        }\n",
        "    }\n",
        "    let end = start.elapsed();\n",
        "\n",
        "    println!(\n",
        "        \"{}.{:03} sec\",\n",
        "        end.as_secs(),\n",
        "        end.subsec_nanos() / 1_000_000\n",
        "    );\n",
        "\n",
        "    // 時間測定外の処理\n",
        "    println!(\"{:?}\", buf[0]);\n",
        "    let mut total: usize = 0;\n",
        "    for i in 0..SIZE {\n",
        "        for j in 0..5 {\n",
        "            total += buf[i*5+j] as usize;\n",
        "        }\n",
        "    }\n",
        "    println!(\"{}\", total);\n",
        "}\n"
      ],
      "execution_count": 152,
      "outputs": [
        {
          "output_type": "stream",
          "name": "stdout",
          "text": [
            "Overwriting src/main.rs\n"
          ]
        }
      ]
    },
    {
      "cell_type": "code",
      "metadata": {
        "colab": {
          "base_uri": "https://localhost:8080/"
        },
        "id": "5y_z_xUyQa-3",
        "outputId": "6cb6f0a6-2ea2-4a5f-e106-cd56e28b7bed"
      },
      "source": [
        "!cargo run --release"
      ],
      "execution_count": 153,
      "outputs": [
        {
          "output_type": "stream",
          "name": "stdout",
          "text": [
            "\u001b[0m\u001b[0m\u001b[1m\u001b[32m   Compiling\u001b[0m measure v0.1.0 (/content/measure)\n",
            "\u001b[0m\u001b[0m\u001b[1m\u001b[32m    Finished\u001b[0m release [optimized] target(s) in 0.52s\n",
            "\u001b[0m\u001b[0m\u001b[1m\u001b[32m     Running\u001b[0m `target/release/measure`\n",
            "21.806 sec\n",
            "205\n",
            "63749253\n"
          ]
        }
      ]
    },
    {
      "cell_type": "markdown",
      "source": [
        "同じです。"
      ],
      "metadata": {
        "id": "EXN7k502_bcF"
      }
    },
    {
      "cell_type": "markdown",
      "source": [
        "関数利用。"
      ],
      "metadata": {
        "id": "_HDZSfqN_h1H"
      }
    },
    {
      "cell_type": "code",
      "metadata": {
        "colab": {
          "base_uri": "https://localhost:8080/"
        },
        "id": "hEgxaV6lSi7p",
        "outputId": "cba5bdb3-1017-4dc7-bfbc-7fe5a0d655a0"
      },
      "source": [
        "%%writefile src/main.rs\n",
        "use std::time::Instant;\n",
        "use rand;\n",
        "use rand::prelude::*;\n",
        "\n",
        "fn main() {\n",
        "    const COUNT: usize = 100_000;\n",
        "    const SIZE: usize = 100_000;\n",
        "    let mut rng: rand::rngs::StdRng = rand::SeedableRng::seed_from_u64(0);\n",
        "    let mut vs: [u64; SIZE] = [0; SIZE];\n",
        "    for i in 0..SIZE {\n",
        "        vs[i] = rng.gen_range(0..(1<<40));\n",
        "    }\n",
        "\n",
        "    let mut buf: [u8; 5 * SIZE] = [0; 5 * SIZE];\n",
        "\n",
        "    let start = Instant::now();\n",
        "    for _ in 0..COUNT {\n",
        "        for idx in 0..SIZE {\n",
        "            let src = vs[idx].to_le_bytes();\n",
        "            let b = &mut buf[(idx*5)..];\n",
        "            b[0] = src[0];\n",
        "            b[1] = src[1];\n",
        "            b[2] = src[2];\n",
        "            b[3] = src[3];\n",
        "            b[4] = src[4];\n",
        "        }\n",
        "    }\n",
        "    let end = start.elapsed();\n",
        "\n",
        "    println!(\n",
        "        \"{}.{:03} sec\",\n",
        "        end.as_secs(),\n",
        "        end.subsec_nanos() / 1_000_000\n",
        "    );\n",
        "\n",
        "    // 時間測定外の処理\n",
        "    println!(\"{:?}\", buf[0]);\n",
        "    let mut total: usize = 0;\n",
        "    for i in 0..SIZE {\n",
        "        for j in 0..5 {\n",
        "            total += buf[i*5+j] as usize;\n",
        "        }\n",
        "    }\n",
        "    println!(\"{}\", total);\n",
        "}\n"
      ],
      "execution_count": 158,
      "outputs": [
        {
          "output_type": "stream",
          "name": "stdout",
          "text": [
            "Overwriting src/main.rs\n"
          ]
        }
      ]
    },
    {
      "cell_type": "code",
      "metadata": {
        "colab": {
          "base_uri": "https://localhost:8080/"
        },
        "id": "qGyV9iwbSiwN",
        "outputId": "a7124c87-fb84-4675-f1a9-2c2388d6b95f"
      },
      "source": [
        "!cargo run --release"
      ],
      "execution_count": 159,
      "outputs": [
        {
          "output_type": "stream",
          "name": "stdout",
          "text": [
            "\u001b[0m\u001b[0m\u001b[1m\u001b[32m   Compiling\u001b[0m measure v0.1.0 (/content/measure)\n",
            "\u001b[0m\u001b[0m\u001b[1m\u001b[32m    Finished\u001b[0m release [optimized] target(s) in 0.53s\n",
            "\u001b[0m\u001b[0m\u001b[1m\u001b[32m     Running\u001b[0m `target/release/measure`\n",
            "21.861 sec\n",
            "205\n",
            "63749253\n"
          ]
        }
      ]
    },
    {
      "cell_type": "markdown",
      "source": [
        "同じでした。"
      ],
      "metadata": {
        "id": "JTQQAjCw_kCF"
      }
    },
    {
      "cell_type": "markdown",
      "source": [
        "最後にポインター利用。"
      ],
      "metadata": {
        "id": "_2FeMOoe_nmE"
      }
    },
    {
      "cell_type": "code",
      "metadata": {
        "colab": {
          "base_uri": "https://localhost:8080/"
        },
        "id": "pnj3PHXhT2lY",
        "outputId": "da73a471-50d8-4fd1-af3f-57246ebe45f4"
      },
      "source": [
        "%%writefile src/main.rs\n",
        "use std::time::Instant;\n",
        "use rand;\n",
        "use rand::prelude::*;\n",
        "\n",
        "fn main() {\n",
        "    const COUNT: usize = 100_000;\n",
        "    const SIZE: usize = 100_000;\n",
        "    let mut rng: rand::rngs::StdRng = rand::SeedableRng::seed_from_u64(0);\n",
        "    let mut vs: [u64; SIZE] = [0; SIZE];\n",
        "    for i in 0..SIZE {\n",
        "        vs[i] = rng.gen_range(0..(1<<40));\n",
        "    }\n",
        "\n",
        "    let buf: [u8; 5 * SIZE + 3] = [0; 5 * SIZE + 3];\n",
        "\n",
        "    let start = Instant::now();\n",
        "    for _ in 0..COUNT {\n",
        "        for idx in 0..SIZE {\n",
        "            unsafe {\n",
        "                *(buf[idx*5..].as_ptr() as *mut u64) = vs[idx];\n",
        "            }\n",
        "        }\n",
        "    }\n",
        "    let end = start.elapsed();\n",
        "\n",
        "    println!(\n",
        "        \"{}.{:03} sec\",\n",
        "        end.as_secs(),\n",
        "        end.subsec_nanos() / 1_000_000\n",
        "    );\n",
        "\n",
        "    // 時間測定外の処理\n",
        "    println!(\"{:?}\", buf[0]);\n",
        "    let mut total: usize = 0;\n",
        "    for i in 0..SIZE {\n",
        "        for j in 0..5 {\n",
        "            total += buf[i*5+j] as usize;\n",
        "        }\n",
        "    }\n",
        "    println!(\"{}\", total);\n",
        "}\n"
      ],
      "execution_count": 160,
      "outputs": [
        {
          "output_type": "stream",
          "name": "stdout",
          "text": [
            "Overwriting src/main.rs\n"
          ]
        }
      ]
    },
    {
      "cell_type": "code",
      "metadata": {
        "colab": {
          "base_uri": "https://localhost:8080/"
        },
        "id": "HJbuB9gUT2eF",
        "outputId": "7565c011-468a-464d-bbb5-89025b923051"
      },
      "source": [
        "!cargo run --release"
      ],
      "execution_count": 161,
      "outputs": [
        {
          "output_type": "stream",
          "name": "stdout",
          "text": [
            "\u001b[0m\u001b[0m\u001b[1m\u001b[32m   Compiling\u001b[0m measure v0.1.0 (/content/measure)\n",
            "\u001b[0m\u001b[0m\u001b[1m\u001b[32m    Finished\u001b[0m release [optimized] target(s) in 0.51s\n",
            "\u001b[0m\u001b[0m\u001b[1m\u001b[32m     Running\u001b[0m `target/release/measure`\n",
            "6.949 sec\n",
            "205\n",
            "63749253\n"
          ]
        }
      ]
    },
    {
      "cell_type": "markdown",
      "source": [
        "速い。やっとRustの面目躍如。ポインターを使ってやっとGo言語を越せました。"
      ],
      "metadata": {
        "id": "DY4z67Xz_sG4"
      }
    },
    {
      "cell_type": "markdown",
      "metadata": {
        "id": "2pTZdT2SCfB9"
      },
      "source": [
        "## 5Nバイト配列から40bit整数の配列への変換\n",
        "\n",
        "> `v = *(ans[idx*5..].as_ptr() as *mut u64) & 0xFF_FFFF_FFFF`が最速"
      ]
    },
    {
      "cell_type": "markdown",
      "source": [
        "まずは素朴な実装。"
      ],
      "metadata": {
        "id": "cLBg88nbAwOv"
      }
    },
    {
      "cell_type": "code",
      "source": [
        "%%writefile src/main.rs\n",
        "use rand;\n",
        "use rand::prelude::*;\n",
        "use std::time::Instant;\n",
        "\n",
        "fn main() {\n",
        "    const COUNT: usize = 100_000;\n",
        "    const SIZE: usize = 100_000;\n",
        "    let mut rng: rand::rngs::StdRng = rand::SeedableRng::seed_from_u64(0);\n",
        "    let mut ans:[u8; SIZE*5] = [0; SIZE*5];\n",
        "    for i in 0..SIZE {\n",
        "        for j in 0..5 {\n",
        "            ans[i*5+j] = rng.gen_range(0..256) as u8;\n",
        "        }\n",
        "    }\n",
        "    let mut buf:[u64; SIZE] = [0; SIZE];\n",
        "\n",
        "    let start = Instant::now();\n",
        "    for _ in 0..COUNT {\n",
        "        for i in 0..SIZE {\n",
        "            let i5 = i * 5;\n",
        "            let mut v = 0;\n",
        "            for j in 0..5 {\n",
        "                v += (ans[i5+j] as u64) << (8 * j);\n",
        "            }\n",
        "            buf[i] = v;\n",
        "        }\n",
        "    }\n",
        "    let end = start.elapsed();\n",
        "\n",
        "    println!(\n",
        "        \"{}.{:03} sec\",\n",
        "        end.as_secs(),\n",
        "        end.subsec_nanos() / 1_000_000\n",
        "    );\n",
        "    let mut total: u64 = 0;\n",
        "    for i in 0..SIZE {\n",
        "        total += buf[i];\n",
        "    }\n",
        "\n",
        "    println!(\"{}\", total);\n",
        "}"
      ],
      "metadata": {
        "colab": {
          "base_uri": "https://localhost:8080/"
        },
        "id": "c62h9NfsAG01",
        "outputId": "dc19b245-827f-4b8a-ab90-4c45249154b2"
      },
      "execution_count": 172,
      "outputs": [
        {
          "output_type": "stream",
          "name": "stdout",
          "text": [
            "Overwriting src/main.rs\n"
          ]
        }
      ]
    },
    {
      "cell_type": "code",
      "source": [
        "!cargo run --release"
      ],
      "metadata": {
        "colab": {
          "base_uri": "https://localhost:8080/"
        },
        "id": "g0Z59ThZAGqv",
        "outputId": "fa19b1bc-8a06-4738-c697-16c758256a3a"
      },
      "execution_count": 173,
      "outputs": [
        {
          "output_type": "stream",
          "name": "stdout",
          "text": [
            "\u001b[0m\u001b[0m\u001b[1m\u001b[32m   Compiling\u001b[0m measure v0.1.0 (/content/measure)\n",
            "\u001b[0m\u001b[0m\u001b[1m\u001b[32m    Finished\u001b[0m release [optimized] target(s) in 0.49s\n",
            "\u001b[0m\u001b[0m\u001b[1m\u001b[32m     Running\u001b[0m `target/release/measure`\n",
            "21.323 sec\n",
            "54987966921384494\n"
          ]
        }
      ]
    },
    {
      "cell_type": "markdown",
      "source": [
        "内側のforループの展開。"
      ],
      "metadata": {
        "id": "jEfpVc_JAz6G"
      }
    },
    {
      "cell_type": "code",
      "metadata": {
        "colab": {
          "base_uri": "https://localhost:8080/"
        },
        "id": "tyYoKbHKbL4I",
        "outputId": "604ab17c-0e63-42bb-b324-c3f95f7efd00"
      },
      "source": [
        "%%writefile src/main.rs\n",
        "use rand;\n",
        "use rand::prelude::*;\n",
        "use std::time::Instant;\n",
        "\n",
        "fn main() {\n",
        "    const COUNT: usize = 100_000;\n",
        "    const SIZE: usize = 100_000;\n",
        "    let mut rng: rand::rngs::StdRng = rand::SeedableRng::seed_from_u64(0);\n",
        "    let mut ans:[u8; SIZE*5] = [0; SIZE*5];\n",
        "    for i in 0..SIZE {\n",
        "        for j in 0..5 {\n",
        "            ans[i*5+j] = rng.gen_range(0..256) as u8;\n",
        "        }\n",
        "    }\n",
        "    let mut buf:[u64; SIZE] = [0; SIZE];\n",
        "\n",
        "    let start = Instant::now();\n",
        "    for _ in 0..COUNT {\n",
        "        for i in 0..SIZE {\n",
        "            let i5 = i * 5;\n",
        "            let mut v = ans[i5] as u64;\n",
        "            v += (ans[i5+1] as u64) << 8;\n",
        "            v += (ans[i5+2] as u64) << 16;\n",
        "            v += (ans[i5+3] as u64) << 24;\n",
        "            v += (ans[i5+4] as u64) << 32;\n",
        "            buf[i] = v;\n",
        "        }\n",
        "    }\n",
        "    let end = start.elapsed();\n",
        "\n",
        "    println!(\n",
        "        \"{}.{:03} sec\",\n",
        "        end.as_secs(),\n",
        "        end.subsec_nanos() / 1_000_000\n",
        "    );\n",
        "    let mut total: u64 = 0;\n",
        "    for i in 0..SIZE {\n",
        "        total += buf[i];\n",
        "    }\n",
        "\n",
        "    println!(\"{}\", total);\n",
        "}"
      ],
      "execution_count": 174,
      "outputs": [
        {
          "output_type": "stream",
          "name": "stdout",
          "text": [
            "Overwriting src/main.rs\n"
          ]
        }
      ]
    },
    {
      "cell_type": "code",
      "metadata": {
        "colab": {
          "base_uri": "https://localhost:8080/"
        },
        "id": "QenSKVMXbNFN",
        "outputId": "9f773a0e-a5bf-4387-ed00-f0cd7afb82a9"
      },
      "source": [
        "!cargo run --release"
      ],
      "execution_count": 175,
      "outputs": [
        {
          "output_type": "stream",
          "name": "stdout",
          "text": [
            "\u001b[0m\u001b[0m\u001b[1m\u001b[32m   Compiling\u001b[0m measure v0.1.0 (/content/measure)\n",
            "\u001b[0m\u001b[0m\u001b[1m\u001b[32m    Finished\u001b[0m release [optimized] target(s) in 0.49s\n",
            "\u001b[0m\u001b[0m\u001b[1m\u001b[32m     Running\u001b[0m `target/release/measure`\n",
            "7.901 sec\n",
            "54987966921384494\n"
          ]
        }
      ]
    },
    {
      "cell_type": "markdown",
      "source": [
        "めずらしくforループの展開が効果がありました。"
      ],
      "metadata": {
        "id": "IBjmCX3ZA6PG"
      }
    },
    {
      "cell_type": "markdown",
      "source": [
        "関数利用。"
      ],
      "metadata": {
        "id": "ZLSAbnf0BLG6"
      }
    },
    {
      "cell_type": "code",
      "metadata": {
        "colab": {
          "base_uri": "https://localhost:8080/"
        },
        "id": "uqSnxQ-Ne3oS",
        "outputId": "136cfc9c-e8e2-4ad0-a64a-042416d6b2a8"
      },
      "source": [
        "%%writefile src/main.rs\n",
        "use rand;\n",
        "use rand::prelude::*;\n",
        "use std::time::Instant;\n",
        "\n",
        "fn main() {\n",
        "    const COUNT: usize = 100_000;\n",
        "    const SIZE: usize = 100_000;\n",
        "    let mut rng: rand::rngs::StdRng = rand::SeedableRng::seed_from_u64(0);\n",
        "    let mut ans:[u8; SIZE*5] = [0; SIZE*5];\n",
        "    for i in 0..SIZE {\n",
        "        for j in 0..5 {\n",
        "            ans[i*5+j] = rng.gen_range(0..256) as u8;\n",
        "        }\n",
        "    }\n",
        "    let mut buf:[u64; SIZE] = [0; SIZE];\n",
        "\n",
        "    let start = Instant::now();\n",
        "    for _ in 0..COUNT {\n",
        "        for i in 0..SIZE {\n",
        "            let i5 = i * 5;\n",
        "            buf[i] = u64::from_le_bytes([ans[i5], ans[i5+1], ans[i5+2], ans[i5+3], ans[i5+4], 0, 0, 0]);\n",
        "        }\n",
        "    }\n",
        "    let end = start.elapsed();\n",
        "\n",
        "    println!(\n",
        "        \"{}.{:03} sec\",\n",
        "        end.as_secs(),\n",
        "        end.subsec_nanos() / 1_000_000\n",
        "    );\n",
        "    let mut total: u64 = 0;\n",
        "    for i in 0..SIZE {\n",
        "        total += buf[i];\n",
        "    }\n",
        "\n",
        "    println!(\"{}\", total);\n",
        "}"
      ],
      "execution_count": 176,
      "outputs": [
        {
          "output_type": "stream",
          "name": "stdout",
          "text": [
            "Overwriting src/main.rs\n"
          ]
        }
      ]
    },
    {
      "cell_type": "code",
      "metadata": {
        "colab": {
          "base_uri": "https://localhost:8080/"
        },
        "id": "u0yNif6Re3fc",
        "outputId": "2e5fc65c-d2f1-4548-d029-4a0cfd4b5c53"
      },
      "source": [
        "!cargo run --release"
      ],
      "execution_count": 177,
      "outputs": [
        {
          "output_type": "stream",
          "name": "stdout",
          "text": [
            "\u001b[0m\u001b[0m\u001b[1m\u001b[32m   Compiling\u001b[0m measure v0.1.0 (/content/measure)\n",
            "\u001b[0m\u001b[0m\u001b[1m\u001b[32m    Finished\u001b[0m release [optimized] target(s) in 0.47s\n",
            "\u001b[0m\u001b[0m\u001b[1m\u001b[32m     Running\u001b[0m `target/release/measure`\n",
            "7.885 sec\n",
            "54987966921384494\n"
          ]
        }
      ]
    },
    {
      "cell_type": "markdown",
      "source": [
        "変わりません。"
      ],
      "metadata": {
        "id": "AvNLcUzEBN5J"
      }
    },
    {
      "cell_type": "markdown",
      "source": [
        "別の集計方法。"
      ],
      "metadata": {
        "id": "JGq1iJHLBcyZ"
      }
    },
    {
      "cell_type": "code",
      "metadata": {
        "colab": {
          "base_uri": "https://localhost:8080/"
        },
        "id": "ywiWdivJg2Q7",
        "outputId": "8ba13e1d-e9a2-4ddb-98b3-fb35b2c4a0fa"
      },
      "source": [
        "%%writefile src/main.rs\n",
        "use rand;\n",
        "use rand::prelude::*;\n",
        "use std::time::Instant;\n",
        "\n",
        "fn main() {\n",
        "    const COUNT: usize = 100_000;\n",
        "    const SIZE: usize = 100_000;\n",
        "    let mut rng: rand::rngs::StdRng = rand::SeedableRng::seed_from_u64(0);\n",
        "    let mut ans:[u8; SIZE*5] = [0; SIZE*5];\n",
        "    for i in 0..SIZE {\n",
        "        for j in 0..5 {\n",
        "            ans[i*5+j] = rng.gen_range(0..256) as u8;\n",
        "        }\n",
        "    }\n",
        "    let mut buf:[u64; SIZE] = [0; SIZE];\n",
        "\n",
        "    let start = Instant::now();\n",
        "    for _ in 0..COUNT {\n",
        "        for i in 0..SIZE {\n",
        "            let i5 = i * 5;\n",
        "            buf[i] = (u32::from_le_bytes([ans[i5], ans[i5+1], ans[i5+2], ans[i5+3]]) as u64) + ((ans[i5+4] as u64) << 32);\n",
        "        }\n",
        "    }\n",
        "    let end = start.elapsed();\n",
        "\n",
        "    println!(\n",
        "        \"{}.{:03} sec\",\n",
        "        end.as_secs(),\n",
        "        end.subsec_nanos() / 1_000_000\n",
        "    );\n",
        "    let mut total: u64 = 0;\n",
        "    for i in 0..SIZE {\n",
        "        total += buf[i];\n",
        "    }\n",
        "\n",
        "    println!(\"{}\", total);\n",
        "}"
      ],
      "execution_count": 178,
      "outputs": [
        {
          "output_type": "stream",
          "name": "stdout",
          "text": [
            "Overwriting src/main.rs\n"
          ]
        }
      ]
    },
    {
      "cell_type": "code",
      "metadata": {
        "colab": {
          "base_uri": "https://localhost:8080/"
        },
        "id": "AAiXHP3Gg3BW",
        "outputId": "8e41926d-946a-4d03-96fb-8de26217a25c"
      },
      "source": [
        "!cargo run --release"
      ],
      "execution_count": 179,
      "outputs": [
        {
          "output_type": "stream",
          "name": "stdout",
          "text": [
            "\u001b[0m\u001b[0m\u001b[1m\u001b[32m   Compiling\u001b[0m measure v0.1.0 (/content/measure)\n",
            "\u001b[0m\u001b[0m\u001b[1m\u001b[32m    Finished\u001b[0m release [optimized] target(s) in 0.50s\n",
            "\u001b[0m\u001b[0m\u001b[1m\u001b[32m     Running\u001b[0m `target/release/measure`\n",
            "7.903 sec\n",
            "54987966921384494\n"
          ]
        }
      ]
    },
    {
      "cell_type": "markdown",
      "source": [
        "ほぼ同じです。"
      ],
      "metadata": {
        "id": "QhNQsKezBhpW"
      }
    },
    {
      "cell_type": "markdown",
      "source": [
        "0xFF_FFFF_FFFFのマスクによる集計方法。"
      ],
      "metadata": {
        "id": "i4zqs2MBBmRi"
      }
    },
    {
      "cell_type": "code",
      "metadata": {
        "colab": {
          "base_uri": "https://localhost:8080/"
        },
        "id": "_duxXUqahzsI",
        "outputId": "16faf1c9-d7df-4fcf-bf85-afe252c42860"
      },
      "source": [
        "%%writefile src/main.rs\n",
        "use rand;\n",
        "use rand::prelude::*;\n",
        "use std::time::Instant;\n",
        "\n",
        "fn main() {\n",
        "    const COUNT: usize = 100_000;\n",
        "    const SIZE: usize = 100_000;\n",
        "    let mut rng: rand::rngs::StdRng = rand::SeedableRng::seed_from_u64(0);\n",
        "    let mut ans:[u8; SIZE*5] = [0; SIZE*5];\n",
        "    for i in 0..SIZE {\n",
        "        for j in 0..5 {\n",
        "            ans[i*5+j] = rng.gen_range(0..256) as u8;\n",
        "        }\n",
        "    }\n",
        "    let mut buf:[u64; SIZE] = [0; SIZE];\n",
        "\n",
        "    let start = Instant::now();\n",
        "    for _ in 0..COUNT {\n",
        "        for idx in 0..SIZE {\n",
        "            unsafe {\n",
        "                buf[idx] = *(ans[idx*5..].as_ptr() as *mut u64) & 0xFF_FFFF_FFFF;\n",
        "            }\n",
        "        }\n",
        "    }\n",
        "    let end = start.elapsed();\n",
        "\n",
        "    println!(\n",
        "        \"{}.{:03} sec\",\n",
        "        end.as_secs(),\n",
        "        end.subsec_nanos() / 1_000_000\n",
        "    );\n",
        "    let mut total: u64 = 0;\n",
        "    for i in 0..SIZE {\n",
        "        total += buf[i];\n",
        "    }\n",
        "\n",
        "    println!(\"{}\", total);\n",
        "}"
      ],
      "execution_count": 180,
      "outputs": [
        {
          "output_type": "stream",
          "name": "stdout",
          "text": [
            "Overwriting src/main.rs\n"
          ]
        }
      ]
    },
    {
      "cell_type": "code",
      "metadata": {
        "colab": {
          "base_uri": "https://localhost:8080/"
        },
        "id": "-Zi_vdM1hzl3",
        "outputId": "f3a44146-3650-473d-b463-6e51a6b0f55b"
      },
      "source": [
        "!cargo run --release"
      ],
      "execution_count": 181,
      "outputs": [
        {
          "output_type": "stream",
          "name": "stdout",
          "text": [
            "\u001b[0m\u001b[0m\u001b[1m\u001b[32m   Compiling\u001b[0m measure v0.1.0 (/content/measure)\n",
            "\u001b[0m\u001b[0m\u001b[1m\u001b[32m    Finished\u001b[0m release [optimized] target(s) in 0.49s\n",
            "\u001b[0m\u001b[0m\u001b[1m\u001b[32m     Running\u001b[0m `target/release/measure`\n",
            "5.505 sec\n",
            "54987966921384494\n"
          ]
        }
      ]
    },
    {
      "cell_type": "markdown",
      "source": [
        "速い。これが最速です。"
      ],
      "metadata": {
        "id": "rhHBojFMBr_2"
      }
    },
    {
      "cell_type": "markdown",
      "source": [
        "念のため、"
      ],
      "metadata": {
        "id": "TesGVn2FByrW"
      }
    },
    {
      "cell_type": "code",
      "metadata": {
        "colab": {
          "base_uri": "https://localhost:8080/"
        },
        "id": "QKKxiJmrjrHS",
        "outputId": "2ee7bcc6-a943-486e-adce-ee7188936745"
      },
      "source": [
        "%%writefile src/main.rs\n",
        "use rand;\n",
        "use rand::prelude::*;\n",
        "use std::time::Instant;\n",
        "\n",
        "fn main() {\n",
        "    const COUNT: usize = 100_000;\n",
        "    const SIZE: usize = 100_000;\n",
        "    let mut rng: rand::rngs::StdRng = rand::SeedableRng::seed_from_u64(0);\n",
        "    let mut ans:[u8; SIZE*5] = [0; SIZE*5];\n",
        "    for i in 0..SIZE {\n",
        "        for j in 0..5 {\n",
        "            ans[i*5+j] = rng.gen_range(0..256) as u8;\n",
        "        }\n",
        "    }\n",
        "    let mut buf:[u64; SIZE] = [0; SIZE];\n",
        "\n",
        "    let start = Instant::now();\n",
        "    for _ in 0..COUNT {\n",
        "        for idx in 0..SIZE {\n",
        "            unsafe {\n",
        "                buf[idx] = (*(ans[idx*5..].as_ptr() as *mut u32) as u64) + ((ans[idx*5+4] as u64) << 32);\n",
        "            }\n",
        "        }\n",
        "    }\n",
        "    let end = start.elapsed();\n",
        "\n",
        "    println!(\n",
        "        \"{}.{:03} sec\",\n",
        "        end.as_secs(),\n",
        "        end.subsec_nanos() / 1_000_000\n",
        "    );\n",
        "    let mut total: u64 = 0;\n",
        "    for i in 0..SIZE {\n",
        "        total += buf[i];\n",
        "    }\n",
        "\n",
        "    println!(\"{}\", total);\n",
        "}"
      ],
      "execution_count": 182,
      "outputs": [
        {
          "output_type": "stream",
          "name": "stdout",
          "text": [
            "Overwriting src/main.rs\n"
          ]
        }
      ]
    },
    {
      "cell_type": "code",
      "metadata": {
        "colab": {
          "base_uri": "https://localhost:8080/"
        },
        "id": "SNP2gMz4jrBB",
        "outputId": "75952f1a-44a7-4d45-a327-babc926952bd"
      },
      "source": [
        "!cargo run --release"
      ],
      "execution_count": 183,
      "outputs": [
        {
          "output_type": "stream",
          "name": "stdout",
          "text": [
            "\u001b[0m\u001b[0m\u001b[1m\u001b[32m   Compiling\u001b[0m measure v0.1.0 (/content/measure)\n",
            "\u001b[0m\u001b[0m\u001b[1m\u001b[32m    Finished\u001b[0m release [optimized] target(s) in 0.48s\n",
            "\u001b[0m\u001b[0m\u001b[1m\u001b[32m     Running\u001b[0m `target/release/measure`\n",
            "7.162 sec\n",
            "54987966921384494\n"
          ]
        }
      ]
    },
    {
      "cell_type": "markdown",
      "source": [
        "これは遅かった。"
      ],
      "metadata": {
        "id": "TQD3fVkrCHWQ"
      }
    }
  ]
}